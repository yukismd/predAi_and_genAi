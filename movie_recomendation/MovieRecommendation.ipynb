{
 "cells": [
  {
   "cell_type": "markdown",
   "id": "dce7c461",
   "metadata": {},
   "source": [
    "# 映画の推薦 予測&生成AI デモ"
   ]
  },
  {
   "cell_type": "code",
   "execution_count": 1,
   "id": "a7b97a9a",
   "metadata": {},
   "outputs": [],
   "source": [
    "import requests\n",
    "import json\n",
    "\n",
    "import pandas as pd\n",
    "import numpy as np\n",
    "\n",
    "from h2ogpte import H2OGPTE"
   ]
  },
  {
   "cell_type": "code",
   "execution_count": 32,
   "id": "a2337d80",
   "metadata": {},
   "outputs": [],
   "source": [
    "MLOPS_ENDPOINT = 'https://model.internal.dedicated.h2o.ai/98f52303-8408-41d1-ac9b-b6c45506aa3e/model/score'\n",
    "\n",
    "H2OGPTE_URL = 'https://playground.h2ogpte.h2o.ai'\n",
    "\n",
    "with open('../_secret') as f:\n",
    "    key = json.load(f)\n",
    "H2OGPTE_KEY = key['movie_sample2']"
   ]
  },
  {
   "cell_type": "markdown",
   "id": "91da1cc1",
   "metadata": {},
   "source": [
    "## 顧客に対する推薦リストの作成 - Predictive AI"
   ]
  },
  {
   "cell_type": "code",
   "execution_count": 5,
   "id": "8e1a3394",
   "metadata": {},
   "outputs": [
    {
     "name": "stdout",
     "output_type": "stream",
     "text": [
      "movies_sample.csv                   user_demographic_and_preference.csv\r\n"
     ]
    }
   ],
   "source": [
    "!ls data"
   ]
  },
  {
   "cell_type": "code",
   "execution_count": 15,
   "id": "7cf4e52b",
   "metadata": {},
   "outputs": [
    {
     "name": "stdout",
     "output_type": "stream",
     "text": [
      "(15, 18)\n"
     ]
    }
   ],
   "source": [
    "df_customer = pd.read_csv('data/user_demographic_and_preference.csv')\n",
    "print(df_customer.shape)\n",
    "df_customer = df_customer.sample(n=1)"
   ]
  },
  {
   "cell_type": "markdown",
   "id": "4cb9732d",
   "metadata": {},
   "source": [
    "**推薦を実施したい顧客**\n",
    "- user_* : 顧客情報\n",
    "- genre_* : 好きな映画のジャンル"
   ]
  },
  {
   "cell_type": "code",
   "execution_count": 14,
   "id": "d4579873",
   "metadata": {},
   "outputs": [
    {
     "data": {
      "text/html": [
       "<div>\n",
       "<style scoped>\n",
       "    .dataframe tbody tr th:only-of-type {\n",
       "        vertical-align: middle;\n",
       "    }\n",
       "\n",
       "    .dataframe tbody tr th {\n",
       "        vertical-align: top;\n",
       "    }\n",
       "\n",
       "    .dataframe thead th {\n",
       "        text-align: right;\n",
       "    }\n",
       "</style>\n",
       "<table border=\"1\" class=\"dataframe\">\n",
       "  <thead>\n",
       "    <tr style=\"text-align: right;\">\n",
       "      <th></th>\n",
       "      <th>userId</th>\n",
       "      <th>user_gender</th>\n",
       "      <th>user_generation</th>\n",
       "      <th>genre_Action</th>\n",
       "      <th>genre_Adventure</th>\n",
       "      <th>genre_Animation</th>\n",
       "      <th>genre_Children</th>\n",
       "      <th>genre_Comedy</th>\n",
       "      <th>genre_Crime</th>\n",
       "      <th>genre_Drama</th>\n",
       "      <th>genre_Fantasy</th>\n",
       "      <th>genre_Horror</th>\n",
       "      <th>genre_IMAX</th>\n",
       "      <th>genre_Mystery</th>\n",
       "      <th>genre_Romance</th>\n",
       "      <th>genre_Sci-Fi</th>\n",
       "      <th>genre_Thriller</th>\n",
       "      <th>genre_War</th>\n",
       "    </tr>\n",
       "  </thead>\n",
       "  <tbody>\n",
       "    <tr>\n",
       "      <th>5</th>\n",
       "      <td>10006</td>\n",
       "      <td>M</td>\n",
       "      <td>Senior</td>\n",
       "      <td>0</td>\n",
       "      <td>0</td>\n",
       "      <td>0</td>\n",
       "      <td>0</td>\n",
       "      <td>0</td>\n",
       "      <td>0</td>\n",
       "      <td>1</td>\n",
       "      <td>0</td>\n",
       "      <td>0</td>\n",
       "      <td>0</td>\n",
       "      <td>0</td>\n",
       "      <td>0</td>\n",
       "      <td>0</td>\n",
       "      <td>0</td>\n",
       "      <td>1</td>\n",
       "    </tr>\n",
       "  </tbody>\n",
       "</table>\n",
       "</div>"
      ],
      "text/plain": [
       "   userId user_gender user_generation  genre_Action  genre_Adventure  \\\n",
       "5   10006           M          Senior             0                0   \n",
       "\n",
       "   genre_Animation  genre_Children  genre_Comedy  genre_Crime  genre_Drama  \\\n",
       "5                0               0             0            0            1   \n",
       "\n",
       "   genre_Fantasy  genre_Horror  genre_IMAX  genre_Mystery  genre_Romance  \\\n",
       "5              0             0           0              0              0   \n",
       "\n",
       "   genre_Sci-Fi  genre_Thriller  genre_War  \n",
       "5             0               0          1  "
      ]
     },
     "execution_count": 14,
     "metadata": {},
     "output_type": "execute_result"
    }
   ],
   "source": [
    "df_customer"
   ]
  },
  {
   "cell_type": "markdown",
   "id": "c2fc3b29",
   "metadata": {},
   "source": [
    "**推薦を実施する映画のリスト**"
   ]
  },
  {
   "cell_type": "code",
   "execution_count": 20,
   "id": "6a185546",
   "metadata": {},
   "outputs": [
    {
     "data": {
      "text/html": [
       "<div>\n",
       "<style scoped>\n",
       "    .dataframe tbody tr th:only-of-type {\n",
       "        vertical-align: middle;\n",
       "    }\n",
       "\n",
       "    .dataframe tbody tr th {\n",
       "        vertical-align: top;\n",
       "    }\n",
       "\n",
       "    .dataframe thead th {\n",
       "        text-align: right;\n",
       "    }\n",
       "</style>\n",
       "<table border=\"1\" class=\"dataframe\">\n",
       "  <thead>\n",
       "    <tr style=\"text-align: right;\">\n",
       "      <th></th>\n",
       "      <th>movieId</th>\n",
       "      <th>title</th>\n",
       "    </tr>\n",
       "  </thead>\n",
       "  <tbody>\n",
       "    <tr>\n",
       "      <th>0</th>\n",
       "      <td>1</td>\n",
       "      <td>Toy Story (1995)</td>\n",
       "    </tr>\n",
       "    <tr>\n",
       "      <th>1</th>\n",
       "      <td>47</td>\n",
       "      <td>Seven (a.k.a. Se7en) (1995)</td>\n",
       "    </tr>\n",
       "    <tr>\n",
       "      <th>2</th>\n",
       "      <td>50</td>\n",
       "      <td>Usual Suspects, The (1995)</td>\n",
       "    </tr>\n",
       "    <tr>\n",
       "      <th>3</th>\n",
       "      <td>110</td>\n",
       "      <td>Braveheart (1995)</td>\n",
       "    </tr>\n",
       "    <tr>\n",
       "      <th>4</th>\n",
       "      <td>150</td>\n",
       "      <td>Apollo 13 (1995)</td>\n",
       "    </tr>\n",
       "    <tr>\n",
       "      <th>5</th>\n",
       "      <td>260</td>\n",
       "      <td>Star Wars: Episode IV - A New Hope (1977)</td>\n",
       "    </tr>\n",
       "    <tr>\n",
       "      <th>6</th>\n",
       "      <td>296</td>\n",
       "      <td>Pulp Fiction (1994)</td>\n",
       "    </tr>\n",
       "    <tr>\n",
       "      <th>7</th>\n",
       "      <td>318</td>\n",
       "      <td>Shawshank Redemption, The (1994)</td>\n",
       "    </tr>\n",
       "    <tr>\n",
       "      <th>8</th>\n",
       "      <td>356</td>\n",
       "      <td>Forrest Gump (1994)</td>\n",
       "    </tr>\n",
       "    <tr>\n",
       "      <th>9</th>\n",
       "      <td>480</td>\n",
       "      <td>Jurassic Park (1993)</td>\n",
       "    </tr>\n",
       "    <tr>\n",
       "      <th>10</th>\n",
       "      <td>527</td>\n",
       "      <td>Schindler's List (1993)</td>\n",
       "    </tr>\n",
       "    <tr>\n",
       "      <th>11</th>\n",
       "      <td>589</td>\n",
       "      <td>Terminator 2: Judgment Day (1991)</td>\n",
       "    </tr>\n",
       "    <tr>\n",
       "      <th>12</th>\n",
       "      <td>593</td>\n",
       "      <td>Silence of the Lambs, The (1991)</td>\n",
       "    </tr>\n",
       "    <tr>\n",
       "      <th>13</th>\n",
       "      <td>780</td>\n",
       "      <td>Independence Day (a.k.a. ID4) (1996)</td>\n",
       "    </tr>\n",
       "    <tr>\n",
       "      <th>14</th>\n",
       "      <td>1196</td>\n",
       "      <td>Star Wars: Episode V - The Empire Strikes Back...</td>\n",
       "    </tr>\n",
       "    <tr>\n",
       "      <th>15</th>\n",
       "      <td>1198</td>\n",
       "      <td>Raiders of the Lost Ark (Indiana Jones and the...</td>\n",
       "    </tr>\n",
       "    <tr>\n",
       "      <th>16</th>\n",
       "      <td>2571</td>\n",
       "      <td>Matrix, The (1999)</td>\n",
       "    </tr>\n",
       "    <tr>\n",
       "      <th>17</th>\n",
       "      <td>2858</td>\n",
       "      <td>American Beauty (1999)</td>\n",
       "    </tr>\n",
       "    <tr>\n",
       "      <th>18</th>\n",
       "      <td>2959</td>\n",
       "      <td>Fight Club (1999)</td>\n",
       "    </tr>\n",
       "    <tr>\n",
       "      <th>19</th>\n",
       "      <td>4993</td>\n",
       "      <td>Lord of the Rings: The Fellowship of the Ring,...</td>\n",
       "    </tr>\n",
       "  </tbody>\n",
       "</table>\n",
       "</div>"
      ],
      "text/plain": [
       "    movieId                                              title\n",
       "0         1                                   Toy Story (1995)\n",
       "1        47                        Seven (a.k.a. Se7en) (1995)\n",
       "2        50                         Usual Suspects, The (1995)\n",
       "3       110                                  Braveheart (1995)\n",
       "4       150                                   Apollo 13 (1995)\n",
       "5       260          Star Wars: Episode IV - A New Hope (1977)\n",
       "6       296                                Pulp Fiction (1994)\n",
       "7       318                   Shawshank Redemption, The (1994)\n",
       "8       356                                Forrest Gump (1994)\n",
       "9       480                               Jurassic Park (1993)\n",
       "10      527                            Schindler's List (1993)\n",
       "11      589                  Terminator 2: Judgment Day (1991)\n",
       "12      593                   Silence of the Lambs, The (1991)\n",
       "13      780               Independence Day (a.k.a. ID4) (1996)\n",
       "14     1196  Star Wars: Episode V - The Empire Strikes Back...\n",
       "15     1198  Raiders of the Lost Ark (Indiana Jones and the...\n",
       "16     2571                                 Matrix, The (1999)\n",
       "17     2858                             American Beauty (1999)\n",
       "18     2959                                  Fight Club (1999)\n",
       "19     4993  Lord of the Rings: The Fellowship of the Ring,..."
      ]
     },
     "execution_count": 20,
     "metadata": {},
     "output_type": "execute_result"
    }
   ],
   "source": [
    "df_movie = pd.read_csv('data/movies_sample.csv')\n",
    "df_movie = df_movie.drop(columns='genres')\n",
    "df_movie"
   ]
  },
  {
   "cell_type": "markdown",
   "id": "81e8b61a",
   "metadata": {},
   "source": [
    "**スコアリング用データ（MLOpsへのリクエスト）**  \n",
    "- 推薦を実施するUserIdに対し、映画の情報（movieId）を紐づける\n",
    "- userIdとtitleはスコアリングに必要ないが、見やすさのため"
   ]
  },
  {
   "cell_type": "code",
   "execution_count": 23,
   "id": "37a68257",
   "metadata": {},
   "outputs": [
    {
     "name": "stdout",
     "output_type": "stream",
     "text": [
      "(20, 20)\n"
     ]
    },
    {
     "data": {
      "text/html": [
       "<div>\n",
       "<style scoped>\n",
       "    .dataframe tbody tr th:only-of-type {\n",
       "        vertical-align: middle;\n",
       "    }\n",
       "\n",
       "    .dataframe tbody tr th {\n",
       "        vertical-align: top;\n",
       "    }\n",
       "\n",
       "    .dataframe thead th {\n",
       "        text-align: right;\n",
       "    }\n",
       "</style>\n",
       "<table border=\"1\" class=\"dataframe\">\n",
       "  <thead>\n",
       "    <tr style=\"text-align: right;\">\n",
       "      <th></th>\n",
       "      <th>userId</th>\n",
       "      <th>user_gender</th>\n",
       "      <th>user_generation</th>\n",
       "      <th>genre_Action</th>\n",
       "      <th>genre_Adventure</th>\n",
       "      <th>genre_Animation</th>\n",
       "      <th>genre_Children</th>\n",
       "      <th>genre_Comedy</th>\n",
       "      <th>genre_Crime</th>\n",
       "      <th>genre_Drama</th>\n",
       "      <th>genre_Fantasy</th>\n",
       "      <th>genre_Horror</th>\n",
       "      <th>genre_IMAX</th>\n",
       "      <th>genre_Mystery</th>\n",
       "      <th>genre_Romance</th>\n",
       "      <th>genre_Sci-Fi</th>\n",
       "      <th>genre_Thriller</th>\n",
       "      <th>genre_War</th>\n",
       "      <th>movieId</th>\n",
       "      <th>title</th>\n",
       "    </tr>\n",
       "  </thead>\n",
       "  <tbody>\n",
       "    <tr>\n",
       "      <th>0</th>\n",
       "      <td>10013</td>\n",
       "      <td>M</td>\n",
       "      <td>Senior</td>\n",
       "      <td>1</td>\n",
       "      <td>1</td>\n",
       "      <td>0</td>\n",
       "      <td>0</td>\n",
       "      <td>0</td>\n",
       "      <td>0</td>\n",
       "      <td>0</td>\n",
       "      <td>0</td>\n",
       "      <td>0</td>\n",
       "      <td>0</td>\n",
       "      <td>0</td>\n",
       "      <td>0</td>\n",
       "      <td>1</td>\n",
       "      <td>1</td>\n",
       "      <td>0</td>\n",
       "      <td>1</td>\n",
       "      <td>Toy Story (1995)</td>\n",
       "    </tr>\n",
       "    <tr>\n",
       "      <th>1</th>\n",
       "      <td>10013</td>\n",
       "      <td>M</td>\n",
       "      <td>Senior</td>\n",
       "      <td>1</td>\n",
       "      <td>1</td>\n",
       "      <td>0</td>\n",
       "      <td>0</td>\n",
       "      <td>0</td>\n",
       "      <td>0</td>\n",
       "      <td>0</td>\n",
       "      <td>0</td>\n",
       "      <td>0</td>\n",
       "      <td>0</td>\n",
       "      <td>0</td>\n",
       "      <td>0</td>\n",
       "      <td>1</td>\n",
       "      <td>1</td>\n",
       "      <td>0</td>\n",
       "      <td>47</td>\n",
       "      <td>Seven (a.k.a. Se7en) (1995)</td>\n",
       "    </tr>\n",
       "    <tr>\n",
       "      <th>2</th>\n",
       "      <td>10013</td>\n",
       "      <td>M</td>\n",
       "      <td>Senior</td>\n",
       "      <td>1</td>\n",
       "      <td>1</td>\n",
       "      <td>0</td>\n",
       "      <td>0</td>\n",
       "      <td>0</td>\n",
       "      <td>0</td>\n",
       "      <td>0</td>\n",
       "      <td>0</td>\n",
       "      <td>0</td>\n",
       "      <td>0</td>\n",
       "      <td>0</td>\n",
       "      <td>0</td>\n",
       "      <td>1</td>\n",
       "      <td>1</td>\n",
       "      <td>0</td>\n",
       "      <td>50</td>\n",
       "      <td>Usual Suspects, The (1995)</td>\n",
       "    </tr>\n",
       "    <tr>\n",
       "      <th>3</th>\n",
       "      <td>10013</td>\n",
       "      <td>M</td>\n",
       "      <td>Senior</td>\n",
       "      <td>1</td>\n",
       "      <td>1</td>\n",
       "      <td>0</td>\n",
       "      <td>0</td>\n",
       "      <td>0</td>\n",
       "      <td>0</td>\n",
       "      <td>0</td>\n",
       "      <td>0</td>\n",
       "      <td>0</td>\n",
       "      <td>0</td>\n",
       "      <td>0</td>\n",
       "      <td>0</td>\n",
       "      <td>1</td>\n",
       "      <td>1</td>\n",
       "      <td>0</td>\n",
       "      <td>110</td>\n",
       "      <td>Braveheart (1995)</td>\n",
       "    </tr>\n",
       "    <tr>\n",
       "      <th>4</th>\n",
       "      <td>10013</td>\n",
       "      <td>M</td>\n",
       "      <td>Senior</td>\n",
       "      <td>1</td>\n",
       "      <td>1</td>\n",
       "      <td>0</td>\n",
       "      <td>0</td>\n",
       "      <td>0</td>\n",
       "      <td>0</td>\n",
       "      <td>0</td>\n",
       "      <td>0</td>\n",
       "      <td>0</td>\n",
       "      <td>0</td>\n",
       "      <td>0</td>\n",
       "      <td>0</td>\n",
       "      <td>1</td>\n",
       "      <td>1</td>\n",
       "      <td>0</td>\n",
       "      <td>150</td>\n",
       "      <td>Apollo 13 (1995)</td>\n",
       "    </tr>\n",
       "  </tbody>\n",
       "</table>\n",
       "</div>"
      ],
      "text/plain": [
       "   userId user_gender user_generation  genre_Action  genre_Adventure  \\\n",
       "0   10013           M          Senior             1                1   \n",
       "1   10013           M          Senior             1                1   \n",
       "2   10013           M          Senior             1                1   \n",
       "3   10013           M          Senior             1                1   \n",
       "4   10013           M          Senior             1                1   \n",
       "\n",
       "   genre_Animation  genre_Children  genre_Comedy  genre_Crime  genre_Drama  \\\n",
       "0                0               0             0            0            0   \n",
       "1                0               0             0            0            0   \n",
       "2                0               0             0            0            0   \n",
       "3                0               0             0            0            0   \n",
       "4                0               0             0            0            0   \n",
       "\n",
       "   genre_Fantasy  genre_Horror  genre_IMAX  genre_Mystery  genre_Romance  \\\n",
       "0              0             0           0              0              0   \n",
       "1              0             0           0              0              0   \n",
       "2              0             0           0              0              0   \n",
       "3              0             0           0              0              0   \n",
       "4              0             0           0              0              0   \n",
       "\n",
       "   genre_Sci-Fi  genre_Thriller  genre_War  movieId  \\\n",
       "0             1               1          0        1   \n",
       "1             1               1          0       47   \n",
       "2             1               1          0       50   \n",
       "3             1               1          0      110   \n",
       "4             1               1          0      150   \n",
       "\n",
       "                         title  \n",
       "0             Toy Story (1995)  \n",
       "1  Seven (a.k.a. Se7en) (1995)  \n",
       "2   Usual Suspects, The (1995)  \n",
       "3            Braveheart (1995)  \n",
       "4             Apollo 13 (1995)  "
      ]
     },
     "execution_count": 23,
     "metadata": {},
     "output_type": "execute_result"
    }
   ],
   "source": [
    "df_scoring = pd.merge(df_customer, df_movie, how='cross')\n",
    "print(df_scoring.shape)\n",
    "df_scoring.head()"
   ]
  },
  {
   "cell_type": "code",
   "execution_count": 25,
   "id": "784e0a7b",
   "metadata": {},
   "outputs": [],
   "source": [
    "def transform_scoringdata(df) -> dict:\n",
    "    \n",
    "    # jsonに変換\n",
    "    json_data = df.to_json(orient=\"split\")\n",
    "    json_data = json.loads(json_data)\n",
    "    # キー名の変更\n",
    "    json_data['fields'] = json_data['columns']\n",
    "    del json_data['columns']\n",
    "    json_data['rows'] = json_data['data']\n",
    "    del json_data['data']\n",
    "    \n",
    "    return json_data"
   ]
  },
  {
   "cell_type": "code",
   "execution_count": 28,
   "id": "2035b1c6",
   "metadata": {},
   "outputs": [
    {
     "data": {
      "text/plain": [
       "dict"
      ]
     },
     "execution_count": 28,
     "metadata": {},
     "output_type": "execute_result"
    }
   ],
   "source": [
    "scoring_data = transform_scoringdata(df_scoring)\n",
    "type(scoring_data)"
   ]
  },
  {
   "cell_type": "code",
   "execution_count": 30,
   "id": "5b0fa770",
   "metadata": {},
   "outputs": [
    {
     "data": {
      "text/plain": [
       "dict_keys(['index', 'fields', 'rows'])"
      ]
     },
     "execution_count": 30,
     "metadata": {},
     "output_type": "execute_result"
    }
   ],
   "source": [
    "scoring_data.keys()"
   ]
  },
  {
   "cell_type": "code",
   "execution_count": 33,
   "id": "6dd90fec",
   "metadata": {},
   "outputs": [
    {
     "data": {
      "text/plain": [
       "<Response [200]>"
      ]
     },
     "execution_count": 33,
     "metadata": {},
     "output_type": "execute_result"
    }
   ],
   "source": [
    "response = requests.post(url=MLOPS_ENDPOINT, \n",
    "                         headers={'content-type': 'application/json'}, \n",
    "                         data=json.dumps(scoring_data))\n",
    "response"
   ]
  },
  {
   "cell_type": "code",
   "execution_count": 54,
   "id": "0ffb9128",
   "metadata": {},
   "outputs": [],
   "source": [
    "def transform_scoringdata(response) -> pd.DataFrame:\n",
    "    response_df = pd.concat([df_scoring, pd.DataFrame(response.json()['score'])], axis=1)\n",
    "    response_df = response_df.rename(columns={1:'score'})\n",
    "    response_df = response_df[['userId', 'user_gender', 'user_generation', 'movieId', 'title', 'score']]\n",
    "    response_df = response_df.sort_values('score', ascending=False)\n",
    "    return response_df"
   ]
  },
  {
   "cell_type": "code",
   "execution_count": 57,
   "id": "c7c24ffb",
   "metadata": {},
   "outputs": [
    {
     "data": {
      "text/html": [
       "<div>\n",
       "<style scoped>\n",
       "    .dataframe tbody tr th:only-of-type {\n",
       "        vertical-align: middle;\n",
       "    }\n",
       "\n",
       "    .dataframe tbody tr th {\n",
       "        vertical-align: top;\n",
       "    }\n",
       "\n",
       "    .dataframe thead th {\n",
       "        text-align: right;\n",
       "    }\n",
       "</style>\n",
       "<table border=\"1\" class=\"dataframe\">\n",
       "  <thead>\n",
       "    <tr style=\"text-align: right;\">\n",
       "      <th></th>\n",
       "      <th>userId</th>\n",
       "      <th>user_gender</th>\n",
       "      <th>user_generation</th>\n",
       "      <th>movieId</th>\n",
       "      <th>title</th>\n",
       "      <th>score</th>\n",
       "    </tr>\n",
       "  </thead>\n",
       "  <tbody>\n",
       "    <tr>\n",
       "      <th>18</th>\n",
       "      <td>10013</td>\n",
       "      <td>M</td>\n",
       "      <td>Senior</td>\n",
       "      <td>2959</td>\n",
       "      <td>Fight Club (1999)</td>\n",
       "      <td>0.4479908206399705</td>\n",
       "    </tr>\n",
       "    <tr>\n",
       "      <th>19</th>\n",
       "      <td>10013</td>\n",
       "      <td>M</td>\n",
       "      <td>Senior</td>\n",
       "      <td>4993</td>\n",
       "      <td>Lord of the Rings: The Fellowship of the Ring,...</td>\n",
       "      <td>0.4367456918400951</td>\n",
       "    </tr>\n",
       "    <tr>\n",
       "      <th>16</th>\n",
       "      <td>10013</td>\n",
       "      <td>M</td>\n",
       "      <td>Senior</td>\n",
       "      <td>2571</td>\n",
       "      <td>Matrix, The (1999)</td>\n",
       "      <td>0.4334245643699235</td>\n",
       "    </tr>\n",
       "    <tr>\n",
       "      <th>14</th>\n",
       "      <td>10013</td>\n",
       "      <td>M</td>\n",
       "      <td>Senior</td>\n",
       "      <td>1196</td>\n",
       "      <td>Star Wars: Episode V - The Empire Strikes Back...</td>\n",
       "      <td>0.42149340938190794</td>\n",
       "    </tr>\n",
       "    <tr>\n",
       "      <th>5</th>\n",
       "      <td>10013</td>\n",
       "      <td>M</td>\n",
       "      <td>Senior</td>\n",
       "      <td>260</td>\n",
       "      <td>Star Wars: Episode IV - A New Hope (1977)</td>\n",
       "      <td>0.4033679403459303</td>\n",
       "    </tr>\n",
       "    <tr>\n",
       "      <th>2</th>\n",
       "      <td>10013</td>\n",
       "      <td>M</td>\n",
       "      <td>Senior</td>\n",
       "      <td>50</td>\n",
       "      <td>Usual Suspects, The (1995)</td>\n",
       "      <td>0.40298541566227036</td>\n",
       "    </tr>\n",
       "    <tr>\n",
       "      <th>15</th>\n",
       "      <td>10013</td>\n",
       "      <td>M</td>\n",
       "      <td>Senior</td>\n",
       "      <td>1198</td>\n",
       "      <td>Raiders of the Lost Ark (Indiana Jones and the...</td>\n",
       "      <td>0.3843803993797101</td>\n",
       "    </tr>\n",
       "    <tr>\n",
       "      <th>7</th>\n",
       "      <td>10013</td>\n",
       "      <td>M</td>\n",
       "      <td>Senior</td>\n",
       "      <td>318</td>\n",
       "      <td>Shawshank Redemption, The (1994)</td>\n",
       "      <td>0.3832757883085894</td>\n",
       "    </tr>\n",
       "    <tr>\n",
       "      <th>17</th>\n",
       "      <td>10013</td>\n",
       "      <td>M</td>\n",
       "      <td>Senior</td>\n",
       "      <td>2858</td>\n",
       "      <td>American Beauty (1999)</td>\n",
       "      <td>0.38279121506913516</td>\n",
       "    </tr>\n",
       "    <tr>\n",
       "      <th>6</th>\n",
       "      <td>10013</td>\n",
       "      <td>M</td>\n",
       "      <td>Senior</td>\n",
       "      <td>296</td>\n",
       "      <td>Pulp Fiction (1994)</td>\n",
       "      <td>0.3716957923137419</td>\n",
       "    </tr>\n",
       "    <tr>\n",
       "      <th>3</th>\n",
       "      <td>10013</td>\n",
       "      <td>M</td>\n",
       "      <td>Senior</td>\n",
       "      <td>110</td>\n",
       "      <td>Braveheart (1995)</td>\n",
       "      <td>0.35955365977884557</td>\n",
       "    </tr>\n",
       "    <tr>\n",
       "      <th>10</th>\n",
       "      <td>10013</td>\n",
       "      <td>M</td>\n",
       "      <td>Senior</td>\n",
       "      <td>527</td>\n",
       "      <td>Schindler's List (1993)</td>\n",
       "      <td>0.35731394426273444</td>\n",
       "    </tr>\n",
       "    <tr>\n",
       "      <th>1</th>\n",
       "      <td>10013</td>\n",
       "      <td>M</td>\n",
       "      <td>Senior</td>\n",
       "      <td>47</td>\n",
       "      <td>Seven (a.k.a. Se7en) (1995)</td>\n",
       "      <td>0.34431120239484736</td>\n",
       "    </tr>\n",
       "    <tr>\n",
       "      <th>8</th>\n",
       "      <td>10013</td>\n",
       "      <td>M</td>\n",
       "      <td>Senior</td>\n",
       "      <td>356</td>\n",
       "      <td>Forrest Gump (1994)</td>\n",
       "      <td>0.3385032982023266</td>\n",
       "    </tr>\n",
       "    <tr>\n",
       "      <th>12</th>\n",
       "      <td>10013</td>\n",
       "      <td>M</td>\n",
       "      <td>Senior</td>\n",
       "      <td>593</td>\n",
       "      <td>Silence of the Lambs, The (1991)</td>\n",
       "      <td>0.3173852679913233</td>\n",
       "    </tr>\n",
       "    <tr>\n",
       "      <th>4</th>\n",
       "      <td>10013</td>\n",
       "      <td>M</td>\n",
       "      <td>Senior</td>\n",
       "      <td>150</td>\n",
       "      <td>Apollo 13 (1995)</td>\n",
       "      <td>0.30260106007321214</td>\n",
       "    </tr>\n",
       "    <tr>\n",
       "      <th>0</th>\n",
       "      <td>10013</td>\n",
       "      <td>M</td>\n",
       "      <td>Senior</td>\n",
       "      <td>1</td>\n",
       "      <td>Toy Story (1995)</td>\n",
       "      <td>0.29493208457216386</td>\n",
       "    </tr>\n",
       "    <tr>\n",
       "      <th>11</th>\n",
       "      <td>10013</td>\n",
       "      <td>M</td>\n",
       "      <td>Senior</td>\n",
       "      <td>589</td>\n",
       "      <td>Terminator 2: Judgment Day (1991)</td>\n",
       "      <td>0.2854389902919409</td>\n",
       "    </tr>\n",
       "    <tr>\n",
       "      <th>9</th>\n",
       "      <td>10013</td>\n",
       "      <td>M</td>\n",
       "      <td>Senior</td>\n",
       "      <td>480</td>\n",
       "      <td>Jurassic Park (1993)</td>\n",
       "      <td>0.24770202707585812</td>\n",
       "    </tr>\n",
       "    <tr>\n",
       "      <th>13</th>\n",
       "      <td>10013</td>\n",
       "      <td>M</td>\n",
       "      <td>Senior</td>\n",
       "      <td>780</td>\n",
       "      <td>Independence Day (a.k.a. ID4) (1996)</td>\n",
       "      <td>0.23762417613926332</td>\n",
       "    </tr>\n",
       "  </tbody>\n",
       "</table>\n",
       "</div>"
      ],
      "text/plain": [
       "    userId user_gender user_generation  movieId  \\\n",
       "18   10013           M          Senior     2959   \n",
       "19   10013           M          Senior     4993   \n",
       "16   10013           M          Senior     2571   \n",
       "14   10013           M          Senior     1196   \n",
       "5    10013           M          Senior      260   \n",
       "2    10013           M          Senior       50   \n",
       "15   10013           M          Senior     1198   \n",
       "7    10013           M          Senior      318   \n",
       "17   10013           M          Senior     2858   \n",
       "6    10013           M          Senior      296   \n",
       "3    10013           M          Senior      110   \n",
       "10   10013           M          Senior      527   \n",
       "1    10013           M          Senior       47   \n",
       "8    10013           M          Senior      356   \n",
       "12   10013           M          Senior      593   \n",
       "4    10013           M          Senior      150   \n",
       "0    10013           M          Senior        1   \n",
       "11   10013           M          Senior      589   \n",
       "9    10013           M          Senior      480   \n",
       "13   10013           M          Senior      780   \n",
       "\n",
       "                                                title                score  \n",
       "18                                  Fight Club (1999)   0.4479908206399705  \n",
       "19  Lord of the Rings: The Fellowship of the Ring,...   0.4367456918400951  \n",
       "16                                 Matrix, The (1999)   0.4334245643699235  \n",
       "14  Star Wars: Episode V - The Empire Strikes Back...  0.42149340938190794  \n",
       "5           Star Wars: Episode IV - A New Hope (1977)   0.4033679403459303  \n",
       "2                          Usual Suspects, The (1995)  0.40298541566227036  \n",
       "15  Raiders of the Lost Ark (Indiana Jones and the...   0.3843803993797101  \n",
       "7                    Shawshank Redemption, The (1994)   0.3832757883085894  \n",
       "17                             American Beauty (1999)  0.38279121506913516  \n",
       "6                                 Pulp Fiction (1994)   0.3716957923137419  \n",
       "3                                   Braveheart (1995)  0.35955365977884557  \n",
       "10                            Schindler's List (1993)  0.35731394426273444  \n",
       "1                         Seven (a.k.a. Se7en) (1995)  0.34431120239484736  \n",
       "8                                 Forrest Gump (1994)   0.3385032982023266  \n",
       "12                   Silence of the Lambs, The (1991)   0.3173852679913233  \n",
       "4                                    Apollo 13 (1995)  0.30260106007321214  \n",
       "0                                    Toy Story (1995)  0.29493208457216386  \n",
       "11                  Terminator 2: Judgment Day (1991)   0.2854389902919409  \n",
       "9                                Jurassic Park (1993)  0.24770202707585812  \n",
       "13               Independence Day (a.k.a. ID4) (1996)  0.23762417613926332  "
      ]
     },
     "execution_count": 57,
     "metadata": {},
     "output_type": "execute_result"
    }
   ],
   "source": [
    "df_recomendation_list = transform_scoringdata(response)\n",
    "df_recomendation_list"
   ]
  },
  {
   "cell_type": "code",
   "execution_count": null,
   "id": "be70d95f",
   "metadata": {},
   "outputs": [],
   "source": []
  },
  {
   "cell_type": "markdown",
   "id": "ee1b24ed",
   "metadata": {},
   "source": [
    "## 顧客に対する推薦文の作成 - Generative AI"
   ]
  },
  {
   "cell_type": "markdown",
   "id": "8ca3b36f",
   "metadata": {},
   "source": [
    "参考: https://github.com/yukismd/H2O_LLM/blob/main/h2oGPTe/Collection-specific-API_RAG.ipynb"
   ]
  },
  {
   "cell_type": "code",
   "execution_count": 96,
   "id": "768c84c6",
   "metadata": {},
   "outputs": [
    {
     "name": "stdout",
     "output_type": "stream",
     "text": [
      "movies_sample.csv                   user_demographic_and_preference.csv\r\n",
      "movies_sample_story.txt\r\n"
     ]
    }
   ],
   "source": [
    "!ls data"
   ]
  },
  {
   "cell_type": "markdown",
   "id": "6298f196",
   "metadata": {},
   "source": [
    "RAG用ドキュメント: ./data/movies_sample_story.txt （各映画の詳細情報）"
   ]
  },
  {
   "cell_type": "code",
   "execution_count": 58,
   "id": "6974762f",
   "metadata": {},
   "outputs": [
    {
     "data": {
      "text/plain": [
       "<h2ogpte.h2ogpte.H2OGPTE at 0x135e69690>"
      ]
     },
     "execution_count": 58,
     "metadata": {},
     "output_type": "execute_result"
    }
   ],
   "source": [
    "client = H2OGPTE(\n",
    "    address=H2OGPTE_URL,\n",
    "    api_key=H2OGPTE_KEY,\n",
    ")\n",
    "\n",
    "client"
   ]
  },
  {
   "cell_type": "code",
   "execution_count": 83,
   "id": "0a5bb848",
   "metadata": {},
   "outputs": [
    {
     "data": {
      "text/plain": [
       "['mistralai/Mixtral-8x7B-Instruct-v0.1',\n",
       " 'meta-llama/Meta-Llama-3-8B-Instruct',\n",
       " 'meta-llama/Meta-Llama-3-70B-Instruct',\n",
       " 'nvidia/Llama3-ChatQA-1.5-70B',\n",
       " 'NousResearch/Nous-Capybara-34B',\n",
       " 'mistralai/Mistral-7B-Instruct-v0.3',\n",
       " 'h2oai/h2o-danube2-1.8b-chat',\n",
       " 'mistralai/Mistral-Nemo-Instruct-2407',\n",
       " 'OpenGVLab/InternVL-Chat-V1-5',\n",
       " 'THUDM/cogvlm2-llama3-chat-19B',\n",
       " 'liuhaotian/llava-v1.6-34b',\n",
       " 'lmms-lab/llama3-llava-next-8b',\n",
       " 'mistral-small-latest',\n",
       " 'mistral-large-latest',\n",
       " 'mistral-medium',\n",
       " 'claude-3-5-sonnet-20240620',\n",
       " 'claude-3-sonnet-20240229',\n",
       " 'claude-3-opus-20240229',\n",
       " 'claude-3-haiku-20240307',\n",
       " 'microsoft/Phi-3-vision-128k-instruct',\n",
       " 'microsoft/Phi-3-medium-128k-instruct',\n",
       " 'google/gemma-2-27b-it',\n",
       " 'gemini-1.5-pro-latest',\n",
       " 'gemini-1.5-flash-latest',\n",
       " 'gpt-3.5-turbo-0613',\n",
       " 'gpt-3.5-turbo-16k-0613',\n",
       " 'gpt-35-turbo-1106',\n",
       " 'gpt-4-1106-preview',\n",
       " 'gpt-4-turbo-2024-04-09']"
      ]
     },
     "execution_count": 83,
     "metadata": {},
     "output_type": "execute_result"
    }
   ],
   "source": [
    "client.get_llm_names()"
   ]
  },
  {
   "cell_type": "code",
   "execution_count": 60,
   "id": "cec08cb4",
   "metadata": {},
   "outputs": [
    {
     "data": {
      "text/plain": [
       "'18e4f762-551d-4060-a8be-f762fcd0b092'"
      ]
     },
     "execution_count": 60,
     "metadata": {},
     "output_type": "execute_result"
    }
   ],
   "source": [
    "chat_session_id = client.create_chat_session_on_default_collection()\n",
    "chat_session_id"
   ]
  },
  {
   "cell_type": "markdown",
   "id": "71a6438b",
   "metadata": {},
   "source": [
    "**顧客属性**"
   ]
  },
  {
   "cell_type": "code",
   "execution_count": 62,
   "id": "b9cbb439",
   "metadata": {},
   "outputs": [
    {
     "data": {
      "text/plain": [
       "('M', 'Senior')"
      ]
     },
     "execution_count": 62,
     "metadata": {},
     "output_type": "execute_result"
    }
   ],
   "source": [
    "user_gender = df_recomendation_list['user_gender'][0]\n",
    "user_generation = df_recomendation_list['user_generation'][0]\n",
    "user_gender, user_generation"
   ]
  },
  {
   "cell_type": "code",
   "execution_count": 82,
   "id": "9ce2351c",
   "metadata": {},
   "outputs": [
    {
     "data": {
      "text/plain": [
       "('男性', '50~60代')"
      ]
     },
     "execution_count": 82,
     "metadata": {},
     "output_type": "execute_result"
    }
   ],
   "source": [
    "user_gender_prompt = {'M':'男性', 'F':'女性'}.get(user_gender)\n",
    "user_generation_prompt = {'Young':'10~20代', 'Middle':'30~40代', 'Senior':'50~60代'}.get(user_generation)\n",
    "user_gender_prompt, user_generation_prompt"
   ]
  },
  {
   "cell_type": "markdown",
   "id": "bc092994",
   "metadata": {},
   "source": [
    "**推薦映画 - 上位2つ**"
   ]
  },
  {
   "cell_type": "code",
   "execution_count": 65,
   "id": "08870890",
   "metadata": {},
   "outputs": [
    {
     "data": {
      "text/plain": [
       "('Toy Story (1995)', 'Seven (a.k.a. Se7en) (1995)')"
      ]
     },
     "execution_count": 65,
     "metadata": {},
     "output_type": "execute_result"
    }
   ],
   "source": [
    "movie_top1 = df_recomendation_list['title'][0]\n",
    "movie_top2 = df_recomendation_list['title'][1]\n",
    "movie_top1, movie_top2"
   ]
  },
  {
   "cell_type": "code",
   "execution_count": 93,
   "id": "eaa81fc0",
   "metadata": {},
   "outputs": [
    {
     "name": "stdout",
     "output_type": "stream",
     "text": [
      "\n",
      "Movie Title = Toy Story (1995)とMovie Title = Seven (a.k.a. Se7en) (1995)を50~60代の男性におすすめして下さい。\n",
      "文章には以下の３点を含めてください。\n",
      "\n",
      "- 50~60代の男性に対するフレンドリーなオープニングトーク。\n",
      "- 映画の要約。100文字以内。\n",
      "    - Movie Title = Toy Story (1995)のMovie Detailを参考にした100文字以内の要約文。\n",
      "    - Movie Title = Seven (a.k.a. Se7en) (1995)のMovie Detailを参考にした100文字以内の要約文。\n",
      "- なぜ50~60代の男性にそれらの映画がおすすめかを説明\n",
      "\n"
     ]
    }
   ],
   "source": [
    "\n",
    "Message = '''\n",
    "Movie Title = {2}とMovie Title = {3}を{1}の{0}におすすめして下さい。\n",
    "文章には以下の３点を含めてください。\n",
    "\n",
    "- {1}の{0}に対するフレンドリーなオープニングトーク。\n",
    "- 映画の要約。100文字以内。\n",
    "    - Movie Title = {2}のMovie Detailを参考にした100文字以内の要約文。\n",
    "    - Movie Title = {3}のMovie Detailを参考にした100文字以内の要約文。\n",
    "- なぜ{1}の{0}にそれらの映画がおすすめかを説明\n",
    "'''.format(user_gender_prompt, user_generation_prompt, movie_top1, movie_top2)\n",
    "\n",
    "print(Message)"
   ]
  },
  {
   "cell_type": "code",
   "execution_count": 95,
   "id": "c4089d24",
   "metadata": {},
   "outputs": [
    {
     "name": "stdout",
     "output_type": "stream",
     "text": [
      ">>>>> Prompt\n",
      "\n",
      "Movie Title = Toy Story (1995)とMovie Title = Seven (a.k.a. Se7en) (1995)を50~60代の男性におすすめして下さい。\n",
      "文章には以下の３点を含めてください。\n",
      "\n",
      "- 50~60代の男性に対するフレンドリーなオープニングトーク。\n",
      "- 映画の要約。100文字以内。\n",
      "    - Movie Title = Toy Story (1995)のMovie Detailを参考にした100文字以内の要約文。\n",
      "    - Movie Title = Seven (a.k.a. Se7en) (1995)のMovie Detailを参考にした100文字以内の要約文。\n",
      "- なぜ50~60代の男性にそれらの映画がおすすめかを説明\n",
      "\n",
      ">>>>> LLM Reply\n",
      "こんにちは！今日は素晴らしい映画をお勧めしたいと思います。\n",
      "\n",
      "最初に、『トイ・ストーリー』（1995）という名作アニメをご紹介します。主人公は、おもちゃのカウボーイであるウッディで、新しくやってきたおもちゃのバズと出会い、彼らとの冒険を経験します。この映画は、子供たちから大人まで幅広い層に愛され、絵画の質と緻密なストーリーテリングが魅力的です。\n",
      "\n",
      "次に、『セブン』（1995）というミステリーとスリラーのジャンルを持つ名作をご紹介します。犯罪捜査官のサマセットとミルズが、7 つの大罪に基づいた猟奇的な殺人事件を解決しようとします。映画は、暗く陰鬱な雰囲気が漂う映像美と、ブラッド・ピットやモーガン・フリーマンの優れた演技が特徴的です。\n",
      "\n",
      "これらの映画をお勧めする理由は、50~60代の男性にとって、熟練した演技や深いストーリーテリングが好まれると考えます。特に、『トイ・ストーリー』は、子供たちにも大人たちにも楽しめる、心から笑えるコメディ要素と、絵画の質の高いアニメーションが魅力的です。一方、『セブン』は、犯罪と人間の心理を描いた深いストーリーが好まれる方にとっては、見逃せない一品です。\n",
      "\n",
      "今回のお勧め映画を見て、心に残る感動を与えてくれることでしょう。ぜひ、家族や友人と一緒に楽しんでください。\n"
     ]
    }
   ],
   "source": [
    "LlmModel = 'mistralai/Mixtral-8x7B-Instruct-v0.1'\n",
    "\n",
    "SysPrompt = '''\n",
    "あなたは映画のおすすめ情報を作成するAIです。（回答は必ず日本語で実施します。）\n",
    "'''\n",
    "\n",
    "Message = '''\n",
    "Movie Title = {2}とMovie Title = {3}を{1}の{0}におすすめして下さい。\n",
    "文章には以下の３点を含めてください。\n",
    "\n",
    "- {1}の{0}に対するフレンドリーなオープニングトーク。\n",
    "- 映画の要約。100文字以内。\n",
    "    - Movie Title = {2}のMovie Detailを参考にした100文字以内の要約文。\n",
    "    - Movie Title = {3}のMovie Detailを参考にした100文字以内の要約文。\n",
    "- なぜ{1}の{0}にそれらの映画がおすすめかを説明\n",
    "'''.format(user_gender_prompt, user_generation_prompt, movie_top1, movie_top2)\n",
    "\n",
    "\n",
    "print('>>>>> Prompt')\n",
    "print(Message)\n",
    "\n",
    "print('>>>>> LLM Reply')\n",
    "with client.connect(chat_session_id) as session:\n",
    "    reply = session.query(\n",
    "        message = Message,\n",
    "        system_prompt=SysPrompt,\n",
    "        llm=LlmModel,\n",
    "        rag_config={\"rag_type\": \"rag\"},   # (Normal) RAG \n",
    "    )\n",
    "    print(reply.content)"
   ]
  },
  {
   "cell_type": "code",
   "execution_count": null,
   "id": "593acac2",
   "metadata": {},
   "outputs": [],
   "source": []
  }
 ],
 "metadata": {
  "kernelspec": {
   "display_name": "Python [conda env:llm] *",
   "language": "python",
   "name": "conda-env-llm-py"
  },
  "language_info": {
   "codemirror_mode": {
    "name": "ipython",
    "version": 3
   },
   "file_extension": ".py",
   "mimetype": "text/x-python",
   "name": "python",
   "nbconvert_exporter": "python",
   "pygments_lexer": "ipython3",
   "version": "3.10.12"
  }
 },
 "nbformat": 4,
 "nbformat_minor": 5
}
