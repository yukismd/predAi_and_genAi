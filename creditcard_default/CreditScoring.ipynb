{
 "cells": [
  {
   "cell_type": "markdown",
   "id": "87485e67",
   "metadata": {},
   "source": [
    "# 与信判定 予測&生成AI デモ"
   ]
  },
  {
   "cell_type": "code",
   "execution_count": 1,
   "id": "43b39200",
   "metadata": {},
   "outputs": [],
   "source": [
    "import requests\n",
    "import json\n",
    "\n",
    "import pandas as pd\n",
    "import numpy as np\n",
    "\n",
    "from h2ogpte import H2OGPTE"
   ]
  },
  {
   "cell_type": "code",
   "execution_count": 2,
   "id": "85b71d84",
   "metadata": {},
   "outputs": [],
   "source": [
    "MLOPS_ENDPOINT = 'https://model.internal.dedicated.h2o.ai/dd9d2458-de72-465b-a62f-e8796053b802/model/score'\n",
    "\n",
    "H2OGPTE_URL = 'https://playground.h2ogpte.h2o.ai'\n",
    "\n",
    "with open('../_secret') as f:\n",
    "    key = json.load(f)\n",
    "H2OGPTE_KEY = key['client-access-test']"
   ]
  },
  {
   "cell_type": "markdown",
   "id": "7d604347",
   "metadata": {},
   "source": [
    "## Scoring by Predictive AI"
   ]
  },
  {
   "cell_type": "markdown",
   "id": "c6c23e51",
   "metadata": {},
   "source": [
    "参考: https://github.com/yukismd/H2O_AI_Cloud/blob/main/sample_request/Shaply_Scoring.ipynb"
   ]
  },
  {
   "cell_type": "code",
   "execution_count": 3,
   "id": "8bfd8613",
   "metadata": {},
   "outputs": [
    {
     "name": "stdout",
     "output_type": "stream",
     "text": [
      "UCI_Credit_Card3_sample5.csv\r\n"
     ]
    }
   ],
   "source": [
    "!ls data"
   ]
  },
  {
   "cell_type": "code",
   "execution_count": 20,
   "id": "b39afef0",
   "metadata": {},
   "outputs": [],
   "source": [
    "def get_and_transform_scoringdata() -> dict:\n",
    "    df = pd.read_csv('data/UCI_Credit_Card3_sample5.csv')\n",
    "    df = df.sample(n=1)   # sample 1 observation out of 5\n",
    "    df = df.astype(str)\n",
    "    display(df)\n",
    "    \n",
    "    # jsonに変換\n",
    "    json_data = df.to_json(orient=\"split\")\n",
    "    json_data = json.loads(json_data)\n",
    "    # キー名の変更\n",
    "    json_data['fields'] = json_data['columns']\n",
    "    del json_data['columns']\n",
    "    json_data['rows'] = json_data['data']\n",
    "    del json_data['data']\n",
    "    # Shapley Scoring指示の追加\n",
    "    json_data['requestShapleyValueType'] = 'ORIGINAL'\n",
    "    \n",
    "    return json_data"
   ]
  },
  {
   "cell_type": "code",
   "execution_count": 21,
   "id": "c9ed535b",
   "metadata": {},
   "outputs": [
    {
     "data": {
      "text/html": [
       "<div>\n",
       "<style scoped>\n",
       "    .dataframe tbody tr th:only-of-type {\n",
       "        vertical-align: middle;\n",
       "    }\n",
       "\n",
       "    .dataframe tbody tr th {\n",
       "        vertical-align: top;\n",
       "    }\n",
       "\n",
       "    .dataframe thead th {\n",
       "        text-align: right;\n",
       "    }\n",
       "</style>\n",
       "<table border=\"1\" class=\"dataframe\">\n",
       "  <thead>\n",
       "    <tr style=\"text-align: right;\">\n",
       "      <th></th>\n",
       "      <th>ID</th>\n",
       "      <th>LIMIT_BAL</th>\n",
       "      <th>SEX</th>\n",
       "      <th>EDUCATION</th>\n",
       "      <th>MARRIAGE</th>\n",
       "      <th>AGE</th>\n",
       "      <th>PAY_1</th>\n",
       "      <th>PAY_2</th>\n",
       "      <th>PAY_3</th>\n",
       "      <th>PAY_4</th>\n",
       "      <th>...</th>\n",
       "      <th>BILL_AMT4</th>\n",
       "      <th>BILL_AMT5</th>\n",
       "      <th>BILL_AMT6</th>\n",
       "      <th>PAY_AMT1</th>\n",
       "      <th>PAY_AMT2</th>\n",
       "      <th>PAY_AMT3</th>\n",
       "      <th>PAY_AMT4</th>\n",
       "      <th>PAY_AMT5</th>\n",
       "      <th>PAY_AMT6</th>\n",
       "      <th>default_payment_next_month</th>\n",
       "    </tr>\n",
       "  </thead>\n",
       "  <tbody>\n",
       "    <tr>\n",
       "      <th>0</th>\n",
       "      <td>1</td>\n",
       "      <td>20000</td>\n",
       "      <td>M</td>\n",
       "      <td>university</td>\n",
       "      <td>married</td>\n",
       "      <td>24</td>\n",
       "      <td>2</td>\n",
       "      <td>2</td>\n",
       "      <td>-1</td>\n",
       "      <td>-1</td>\n",
       "      <td>...</td>\n",
       "      <td>0</td>\n",
       "      <td>0</td>\n",
       "      <td>0</td>\n",
       "      <td>0</td>\n",
       "      <td>689</td>\n",
       "      <td>0</td>\n",
       "      <td>0</td>\n",
       "      <td>0</td>\n",
       "      <td>0</td>\n",
       "      <td>1</td>\n",
       "    </tr>\n",
       "  </tbody>\n",
       "</table>\n",
       "<p>1 rows × 25 columns</p>\n",
       "</div>"
      ],
      "text/plain": [
       "  ID LIMIT_BAL SEX   EDUCATION MARRIAGE AGE PAY_1 PAY_2 PAY_3 PAY_4  ...  \\\n",
       "0  1     20000   M  university  married  24     2     2    -1    -1  ...   \n",
       "\n",
       "  BILL_AMT4 BILL_AMT5 BILL_AMT6 PAY_AMT1 PAY_AMT2 PAY_AMT3 PAY_AMT4 PAY_AMT5  \\\n",
       "0         0         0         0        0      689        0        0        0   \n",
       "\n",
       "  PAY_AMT6 default_payment_next_month  \n",
       "0        0                          1  \n",
       "\n",
       "[1 rows x 25 columns]"
      ]
     },
     "metadata": {},
     "output_type": "display_data"
    }
   ],
   "source": [
    "scoring_data = get_and_transform_scoringdata()"
   ]
  },
  {
   "cell_type": "code",
   "execution_count": 22,
   "id": "4ab86f29",
   "metadata": {},
   "outputs": [
    {
     "data": {
      "text/plain": [
       "{'index': [0],\n",
       " 'fields': ['ID',\n",
       "  'LIMIT_BAL',\n",
       "  'SEX',\n",
       "  'EDUCATION',\n",
       "  'MARRIAGE',\n",
       "  'AGE',\n",
       "  'PAY_1',\n",
       "  'PAY_2',\n",
       "  'PAY_3',\n",
       "  'PAY_4',\n",
       "  'PAY_5',\n",
       "  'PAY_6',\n",
       "  'BILL_AMT1',\n",
       "  'BILL_AMT2',\n",
       "  'BILL_AMT3',\n",
       "  'BILL_AMT4',\n",
       "  'BILL_AMT5',\n",
       "  'BILL_AMT6',\n",
       "  'PAY_AMT1',\n",
       "  'PAY_AMT2',\n",
       "  'PAY_AMT3',\n",
       "  'PAY_AMT4',\n",
       "  'PAY_AMT5',\n",
       "  'PAY_AMT6',\n",
       "  'default_payment_next_month'],\n",
       " 'rows': [['1',\n",
       "   '20000',\n",
       "   'M',\n",
       "   'university',\n",
       "   'married',\n",
       "   '24',\n",
       "   '2',\n",
       "   '2',\n",
       "   '-1',\n",
       "   '-1',\n",
       "   '-2',\n",
       "   '-2',\n",
       "   '3913',\n",
       "   '3102',\n",
       "   '689',\n",
       "   '0',\n",
       "   '0',\n",
       "   '0',\n",
       "   '0',\n",
       "   '689',\n",
       "   '0',\n",
       "   '0',\n",
       "   '0',\n",
       "   '0',\n",
       "   '1']],\n",
       " 'requestShapleyValueType': 'ORIGINAL'}"
      ]
     },
     "execution_count": 22,
     "metadata": {},
     "output_type": "execute_result"
    }
   ],
   "source": [
    "scoring_data"
   ]
  },
  {
   "cell_type": "code",
   "execution_count": 23,
   "id": "ff6341d1",
   "metadata": {},
   "outputs": [],
   "source": [
    "response = requests.post(url=MLOPS_ENDPOINT, \n",
    "                         headers={'content-type': 'application/json'}, \n",
    "                         data=json.dumps(scoring_data))"
   ]
  },
  {
   "cell_type": "code",
   "execution_count": 24,
   "id": "e28f8c0c",
   "metadata": {},
   "outputs": [
    {
     "data": {
      "text/plain": [
       "requests.models.Response"
      ]
     },
     "execution_count": 24,
     "metadata": {},
     "output_type": "execute_result"
    }
   ],
   "source": [
    "type(response)"
   ]
  },
  {
   "cell_type": "code",
   "execution_count": 25,
   "id": "407c1510",
   "metadata": {},
   "outputs": [
    {
     "data": {
      "text/plain": [
       "('default_payment_next_month.1', '0.6974739273081736')"
      ]
     },
     "execution_count": 25,
     "metadata": {},
     "output_type": "execute_result"
    }
   ],
   "source": [
    "response.json()['fields'][1], response.json()['score'][0][1]"
   ]
  },
  {
   "cell_type": "code",
   "execution_count": 26,
   "id": "fdf78737",
   "metadata": {},
   "outputs": [],
   "source": [
    "def scoring_results(response: requests.models.Response) -> (float, pd.DataFrame):\n",
    "    # Scoring result\n",
    "    pred_prob = float(response.json()['score'][0][1])   # probability of y=1\n",
    "    \n",
    "    # Shaply scoring result\n",
    "    df_contrib = pd.DataFrame({\n",
    "        'features':response.json()['featureShapleyContributions']['features'],\n",
    "        'contributions':response.json()['featureShapleyContributions']['contributionGroups'][0]['contributions'][0],\n",
    "    })\n",
    "    df_contrib['contributions'] = df_contrib['contributions'].astype(np.float64)\n",
    "    df_contrib['features'] = [s.replace('contrib_', '') for s in df_contrib['features']]\n",
    "    \n",
    "    return (pred_prob, df_contrib)"
   ]
  },
  {
   "cell_type": "code",
   "execution_count": 27,
   "id": "81525031",
   "metadata": {},
   "outputs": [
    {
     "name": "stdout",
     "output_type": "stream",
     "text": [
      "0.6974739273081736\n"
     ]
    },
    {
     "data": {
      "text/html": [
       "<div>\n",
       "<style scoped>\n",
       "    .dataframe tbody tr th:only-of-type {\n",
       "        vertical-align: middle;\n",
       "    }\n",
       "\n",
       "    .dataframe tbody tr th {\n",
       "        vertical-align: top;\n",
       "    }\n",
       "\n",
       "    .dataframe thead th {\n",
       "        text-align: right;\n",
       "    }\n",
       "</style>\n",
       "<table border=\"1\" class=\"dataframe\">\n",
       "  <thead>\n",
       "    <tr style=\"text-align: right;\">\n",
       "      <th></th>\n",
       "      <th>features</th>\n",
       "      <th>contributions</th>\n",
       "    </tr>\n",
       "  </thead>\n",
       "  <tbody>\n",
       "    <tr>\n",
       "      <th>0</th>\n",
       "      <td>EDUCATION</td>\n",
       "      <td>0.096083</td>\n",
       "    </tr>\n",
       "    <tr>\n",
       "      <th>1</th>\n",
       "      <td>MARRIAGE</td>\n",
       "      <td>0.087222</td>\n",
       "    </tr>\n",
       "    <tr>\n",
       "      <th>2</th>\n",
       "      <td>AGE</td>\n",
       "      <td>0.080195</td>\n",
       "    </tr>\n",
       "    <tr>\n",
       "      <th>3</th>\n",
       "      <td>PAY_1</td>\n",
       "      <td>0.794107</td>\n",
       "    </tr>\n",
       "    <tr>\n",
       "      <th>4</th>\n",
       "      <td>PAY_2</td>\n",
       "      <td>0.323085</td>\n",
       "    </tr>\n",
       "    <tr>\n",
       "      <th>5</th>\n",
       "      <td>PAY_3</td>\n",
       "      <td>0.002936</td>\n",
       "    </tr>\n",
       "    <tr>\n",
       "      <th>6</th>\n",
       "      <td>PAY_4</td>\n",
       "      <td>0.059302</td>\n",
       "    </tr>\n",
       "    <tr>\n",
       "      <th>7</th>\n",
       "      <td>PAY_5</td>\n",
       "      <td>0.039223</td>\n",
       "    </tr>\n",
       "    <tr>\n",
       "      <th>8</th>\n",
       "      <td>PAY_6</td>\n",
       "      <td>-0.010183</td>\n",
       "    </tr>\n",
       "    <tr>\n",
       "      <th>9</th>\n",
       "      <td>BILL_AMT1</td>\n",
       "      <td>0.045825</td>\n",
       "    </tr>\n",
       "    <tr>\n",
       "      <th>10</th>\n",
       "      <td>BILL_AMT2</td>\n",
       "      <td>0.269943</td>\n",
       "    </tr>\n",
       "    <tr>\n",
       "      <th>11</th>\n",
       "      <td>BILL_AMT3</td>\n",
       "      <td>-0.057621</td>\n",
       "    </tr>\n",
       "    <tr>\n",
       "      <th>12</th>\n",
       "      <td>BILL_AMT4</td>\n",
       "      <td>-0.043051</td>\n",
       "    </tr>\n",
       "    <tr>\n",
       "      <th>13</th>\n",
       "      <td>BILL_AMT5</td>\n",
       "      <td>-0.009813</td>\n",
       "    </tr>\n",
       "    <tr>\n",
       "      <th>14</th>\n",
       "      <td>BILL_AMT6</td>\n",
       "      <td>-0.053722</td>\n",
       "    </tr>\n",
       "    <tr>\n",
       "      <th>15</th>\n",
       "      <td>PAY_AMT1</td>\n",
       "      <td>0.127802</td>\n",
       "    </tr>\n",
       "    <tr>\n",
       "      <th>16</th>\n",
       "      <td>PAY_AMT2</td>\n",
       "      <td>0.061600</td>\n",
       "    </tr>\n",
       "    <tr>\n",
       "      <th>17</th>\n",
       "      <td>PAY_AMT3</td>\n",
       "      <td>0.113856</td>\n",
       "    </tr>\n",
       "    <tr>\n",
       "      <th>18</th>\n",
       "      <td>PAY_AMT4</td>\n",
       "      <td>0.075398</td>\n",
       "    </tr>\n",
       "    <tr>\n",
       "      <th>19</th>\n",
       "      <td>PAY_AMT5</td>\n",
       "      <td>0.076110</td>\n",
       "    </tr>\n",
       "    <tr>\n",
       "      <th>20</th>\n",
       "      <td>PAY_AMT6</td>\n",
       "      <td>0.086770</td>\n",
       "    </tr>\n",
       "    <tr>\n",
       "      <th>21</th>\n",
       "      <td>bias</td>\n",
       "      <td>-1.329769</td>\n",
       "    </tr>\n",
       "  </tbody>\n",
       "</table>\n",
       "</div>"
      ],
      "text/plain": [
       "     features  contributions\n",
       "0   EDUCATION       0.096083\n",
       "1    MARRIAGE       0.087222\n",
       "2         AGE       0.080195\n",
       "3       PAY_1       0.794107\n",
       "4       PAY_2       0.323085\n",
       "5       PAY_3       0.002936\n",
       "6       PAY_4       0.059302\n",
       "7       PAY_5       0.039223\n",
       "8       PAY_6      -0.010183\n",
       "9   BILL_AMT1       0.045825\n",
       "10  BILL_AMT2       0.269943\n",
       "11  BILL_AMT3      -0.057621\n",
       "12  BILL_AMT4      -0.043051\n",
       "13  BILL_AMT5      -0.009813\n",
       "14  BILL_AMT6      -0.053722\n",
       "15   PAY_AMT1       0.127802\n",
       "16   PAY_AMT2       0.061600\n",
       "17   PAY_AMT3       0.113856\n",
       "18   PAY_AMT4       0.075398\n",
       "19   PAY_AMT5       0.076110\n",
       "20   PAY_AMT6       0.086770\n",
       "21       bias      -1.329769"
      ]
     },
     "metadata": {},
     "output_type": "display_data"
    }
   ],
   "source": [
    "pred_prob, df_contrib = scoring_results(response)\n",
    "print(pred_prob)\n",
    "display(df_contrib)"
   ]
  },
  {
   "cell_type": "code",
   "execution_count": 45,
   "id": "01d54ec1",
   "metadata": {},
   "outputs": [
    {
     "data": {
      "text/plain": [
       "0.7310585786300049"
      ]
     },
     "execution_count": 45,
     "metadata": {},
     "output_type": "execute_result"
    }
   ],
   "source": [
    "shap = 1\n",
    "1 / (1 + np.exp(-1*shap))"
   ]
  },
  {
   "cell_type": "code",
   "execution_count": null,
   "id": "84a457a5",
   "metadata": {},
   "outputs": [],
   "source": []
  },
  {
   "cell_type": "markdown",
   "id": "e3ff7501",
   "metadata": {},
   "source": [
    "## Interpretation by Generative AI"
   ]
  },
  {
   "cell_type": "markdown",
   "id": "9159602d",
   "metadata": {},
   "source": [
    "参考: https://github.com/yukismd/H2O_LLM/blob/main/h2oGPTe/Collection-specific-API.ipynb"
   ]
  },
  {
   "cell_type": "code",
   "execution_count": 28,
   "id": "cd08b1f2",
   "metadata": {},
   "outputs": [
    {
     "data": {
      "text/plain": [
       "<h2ogpte.h2ogpte.H2OGPTE at 0x12a91b9a0>"
      ]
     },
     "execution_count": 28,
     "metadata": {},
     "output_type": "execute_result"
    }
   ],
   "source": [
    "client = H2OGPTE(\n",
    "    address=H2OGPTE_URL,\n",
    "    api_key=H2OGPTE_KEY,\n",
    ")\n",
    "\n",
    "client"
   ]
  },
  {
   "cell_type": "code",
   "execution_count": 30,
   "id": "ce5987b1",
   "metadata": {},
   "outputs": [
    {
     "data": {
      "text/plain": [
       "['mistralai/Mixtral-8x7B-Instruct-v0.1',\n",
       " 'meta-llama/Meta-Llama-3-8B-Instruct',\n",
       " 'meta-llama/Meta-Llama-3-70B-Instruct',\n",
       " 'nvidia/Llama3-ChatQA-1.5-70B',\n",
       " 'NousResearch/Nous-Capybara-34B',\n",
       " 'mistralai/Mistral-7B-Instruct-v0.3',\n",
       " 'h2oai/h2o-danube2-1.8b-chat',\n",
       " 'mistralai/Mistral-Nemo-Instruct-2407',\n",
       " 'OpenGVLab/InternVL-Chat-V1-5',\n",
       " 'THUDM/cogvlm2-llama3-chat-19B',\n",
       " 'liuhaotian/llava-v1.6-34b',\n",
       " 'lmms-lab/llama3-llava-next-8b',\n",
       " 'mistral-small-latest',\n",
       " 'mistral-large-latest',\n",
       " 'mistral-medium',\n",
       " 'claude-3-5-sonnet-20240620',\n",
       " 'claude-3-sonnet-20240229',\n",
       " 'claude-3-opus-20240229',\n",
       " 'claude-3-haiku-20240307',\n",
       " 'microsoft/Phi-3-vision-128k-instruct',\n",
       " 'microsoft/Phi-3-medium-128k-instruct',\n",
       " 'google/gemma-2-27b-it',\n",
       " 'gemini-1.5-pro-latest',\n",
       " 'gemini-1.5-flash-latest',\n",
       " 'gpt-3.5-turbo-0613',\n",
       " 'gpt-3.5-turbo-16k-0613',\n",
       " 'gpt-35-turbo-1106',\n",
       " 'gpt-4-1106-preview',\n",
       " 'gpt-4-turbo-2024-04-09']"
      ]
     },
     "execution_count": 30,
     "metadata": {},
     "output_type": "execute_result"
    }
   ],
   "source": [
    "client.get_llm_names()"
   ]
  },
  {
   "cell_type": "code",
   "execution_count": 29,
   "id": "c02b109d",
   "metadata": {},
   "outputs": [
    {
     "data": {
      "text/plain": [
       "'1e552bde-0169-40c9-99ca-846fe1c4582d'"
      ]
     },
     "execution_count": 29,
     "metadata": {},
     "output_type": "execute_result"
    }
   ],
   "source": [
    "chat_session_id = client.create_chat_session_on_default_collection()\n",
    "chat_session_id"
   ]
  },
  {
   "cell_type": "code",
   "execution_count": 32,
   "id": "592521c1",
   "metadata": {},
   "outputs": [
    {
     "name": "stdout",
     "output_type": "stream",
     "text": [
      "0.6974739273081736\n"
     ]
    }
   ],
   "source": [
    "print(pred_prob)\n",
    "#display(df_contrib)"
   ]
  },
  {
   "cell_type": "code",
   "execution_count": 55,
   "id": "9d216da2",
   "metadata": {},
   "outputs": [
    {
     "name": "stdout",
     "output_type": "stream",
     "text": [
      "与信判定の目安に従って、与信可否の判定を行います。\n",
      "\n",
      "与信モデルの予測結果は0.6974739273081736です。この値は0.3から0.7の範囲にあります。したがって、与信判定に問題がある可能性があり、リーズンコードの確認が必要です。\n"
     ]
    }
   ],
   "source": [
    "SysPrompt = '''\n",
    "あなたは優秀な与信判定AIです。（回答は必ず日本語で実施します。）\n",
    "'''\n",
    "\n",
    "Message = '''\n",
    "予測モデルの予測結果: {}\n",
    "予測モデルの予測結果を、以下の与信判断の目安の目安に従って、与信可否の判定をして下さい。\n",
    "\n",
    "### 与信判断の目安\n",
    "予測精度が0.3以下: 与信判定に問題なし。貸し出し可能。\n",
    "予測精度が0.3~0.7: 与信判定に問題ありの可能性。リーズンコードの確認が必要。\n",
    "予測精度が0.7以上: 与信判定に問題あり。貸し出し不可。\n",
    "\n",
    "'''.format(pred_prob)\n",
    "\n",
    "LlmModel = 'microsoft/Phi-3-medium-128k-instruct'\n",
    "\n",
    "with client.connect(chat_session_id) as session:\n",
    "    reply = session.query(\n",
    "        message = Message,\n",
    "        system_prompt=SysPrompt,\n",
    "        llm=LlmModel,\n",
    "        rag_config={\"rag_type\": \"llm_only\",},\n",
    "    )\n",
    "    print(reply.content)"
   ]
  },
  {
   "cell_type": "code",
   "execution_count": 48,
   "id": "be59320b",
   "metadata": {},
   "outputs": [
    {
     "data": {
      "text/html": [
       "<div>\n",
       "<style scoped>\n",
       "    .dataframe tbody tr th:only-of-type {\n",
       "        vertical-align: middle;\n",
       "    }\n",
       "\n",
       "    .dataframe tbody tr th {\n",
       "        vertical-align: top;\n",
       "    }\n",
       "\n",
       "    .dataframe thead th {\n",
       "        text-align: right;\n",
       "    }\n",
       "</style>\n",
       "<table border=\"1\" class=\"dataframe\">\n",
       "  <thead>\n",
       "    <tr style=\"text-align: right;\">\n",
       "      <th></th>\n",
       "      <th>features</th>\n",
       "      <th>contributions</th>\n",
       "    </tr>\n",
       "  </thead>\n",
       "  <tbody>\n",
       "    <tr>\n",
       "      <th>0</th>\n",
       "      <td>EDUCATION</td>\n",
       "      <td>0.096083</td>\n",
       "    </tr>\n",
       "    <tr>\n",
       "      <th>1</th>\n",
       "      <td>MARRIAGE</td>\n",
       "      <td>0.087222</td>\n",
       "    </tr>\n",
       "    <tr>\n",
       "      <th>2</th>\n",
       "      <td>AGE</td>\n",
       "      <td>0.080195</td>\n",
       "    </tr>\n",
       "    <tr>\n",
       "      <th>3</th>\n",
       "      <td>PAY_1</td>\n",
       "      <td>0.794107</td>\n",
       "    </tr>\n",
       "    <tr>\n",
       "      <th>4</th>\n",
       "      <td>PAY_2</td>\n",
       "      <td>0.323085</td>\n",
       "    </tr>\n",
       "    <tr>\n",
       "      <th>5</th>\n",
       "      <td>PAY_3</td>\n",
       "      <td>0.002936</td>\n",
       "    </tr>\n",
       "    <tr>\n",
       "      <th>6</th>\n",
       "      <td>PAY_4</td>\n",
       "      <td>0.059302</td>\n",
       "    </tr>\n",
       "    <tr>\n",
       "      <th>7</th>\n",
       "      <td>PAY_5</td>\n",
       "      <td>0.039223</td>\n",
       "    </tr>\n",
       "    <tr>\n",
       "      <th>9</th>\n",
       "      <td>BILL_AMT1</td>\n",
       "      <td>0.045825</td>\n",
       "    </tr>\n",
       "    <tr>\n",
       "      <th>10</th>\n",
       "      <td>BILL_AMT2</td>\n",
       "      <td>0.269943</td>\n",
       "    </tr>\n",
       "    <tr>\n",
       "      <th>15</th>\n",
       "      <td>PAY_AMT1</td>\n",
       "      <td>0.127802</td>\n",
       "    </tr>\n",
       "    <tr>\n",
       "      <th>16</th>\n",
       "      <td>PAY_AMT2</td>\n",
       "      <td>0.061600</td>\n",
       "    </tr>\n",
       "    <tr>\n",
       "      <th>17</th>\n",
       "      <td>PAY_AMT3</td>\n",
       "      <td>0.113856</td>\n",
       "    </tr>\n",
       "    <tr>\n",
       "      <th>18</th>\n",
       "      <td>PAY_AMT4</td>\n",
       "      <td>0.075398</td>\n",
       "    </tr>\n",
       "    <tr>\n",
       "      <th>19</th>\n",
       "      <td>PAY_AMT5</td>\n",
       "      <td>0.076110</td>\n",
       "    </tr>\n",
       "    <tr>\n",
       "      <th>20</th>\n",
       "      <td>PAY_AMT6</td>\n",
       "      <td>0.086770</td>\n",
       "    </tr>\n",
       "  </tbody>\n",
       "</table>\n",
       "</div>"
      ],
      "text/plain": [
       "     features  contributions\n",
       "0   EDUCATION       0.096083\n",
       "1    MARRIAGE       0.087222\n",
       "2         AGE       0.080195\n",
       "3       PAY_1       0.794107\n",
       "4       PAY_2       0.323085\n",
       "5       PAY_3       0.002936\n",
       "6       PAY_4       0.059302\n",
       "7       PAY_5       0.039223\n",
       "9   BILL_AMT1       0.045825\n",
       "10  BILL_AMT2       0.269943\n",
       "15   PAY_AMT1       0.127802\n",
       "16   PAY_AMT2       0.061600\n",
       "17   PAY_AMT3       0.113856\n",
       "18   PAY_AMT4       0.075398\n",
       "19   PAY_AMT5       0.076110\n",
       "20   PAY_AMT6       0.086770"
      ]
     },
     "execution_count": 48,
     "metadata": {},
     "output_type": "execute_result"
    }
   ],
   "source": [
    "df_contrib[df_contrib['contributions']>0]"
   ]
  },
  {
   "cell_type": "code",
   "execution_count": 60,
   "id": "18dbb871",
   "metadata": {},
   "outputs": [
    {
     "data": {
      "text/plain": [
       "['EDUCATION',\n",
       " 'MARRIAGE',\n",
       " 'AGE',\n",
       " 'PAY_1',\n",
       " 'PAY_2',\n",
       " 'PAY_3',\n",
       " 'PAY_4',\n",
       " 'PAY_5',\n",
       " 'BILL_AMT1',\n",
       " 'BILL_AMT2',\n",
       " 'PAY_AMT1',\n",
       " 'PAY_AMT2',\n",
       " 'PAY_AMT3',\n",
       " 'PAY_AMT4',\n",
       " 'PAY_AMT5',\n",
       " 'PAY_AMT6']"
      ]
     },
     "execution_count": 60,
     "metadata": {},
     "output_type": "execute_result"
    }
   ],
   "source": [
    "list(df_contrib[df_contrib['contributions']>0]['features'])"
   ]
  },
  {
   "cell_type": "code",
   "execution_count": 62,
   "id": "e9221f57",
   "metadata": {},
   "outputs": [
    {
     "name": "stdout",
     "output_type": "stream",
     "text": [
      "与信判定の目安に従って、与信可否の判定を行います。\n",
      "\n",
      "与信モデルの予測結果は0.6974739273081736で、これは予測精度が0.3~0.7の範囲にあります。したがって、与信判定に問題ありの可能性があり、リーズンコードの確認が必要です。\n",
      "\n",
      "リーズンコードの結果は以下の通りです:\n",
      "['EDUCATION', 'MARRIAGE', 'AGE', 'PAY_1', 'PAY_2', 'PAY_3', 'PAY_4', 'PAY_5', 'BILL_AMT1', 'BILL_AMT2', 'PAY_AMT1', 'PAY_AMT2', 'PAY_AMT3', 'PAY_AMT4', 'PAY_AMT5', 'PAY_AMT6']\n",
      "\n",
      "リーズンコードの基準によると、PAY_*, BILL_AMT*, PAY_AMT*が8個以上含まれています。これは過去の返済履歴に問題があることを示しています。\n",
      "\n",
      "以上の情報に基づき、与信判定に問題ありの可能性があり、貸し出し不可と判断します。\n"
     ]
    }
   ],
   "source": [
    "SysPrompt = '''\n",
    "あなたは優秀な与信判定AIです。（回答は必ず日本語で実施します。）\n",
    "'''\n",
    "\n",
    "Message = '''\n",
    "予測モデルの予測結果: {}\n",
    "予測モデルの予測結果を、以下の与信判断の目安の目安に従って、与信可否の判定をして下さい。\n",
    "\n",
    "リーズンコードの結果:{}\n",
    "与信可否の判定において、リーズンコードの確認が必要な場合は、リーズンコードの結果に従い、以下のリーズンコードの基準に理由を述べて下さい。\n",
    "\n",
    "### 与信判断の目安\n",
    "予測精度が0.3以下: 与信判定に問題なし。貸し出し可能。\n",
    "予測精度が0.3~0.7: 与信判定に問題ありの可能性。リーズンコードの確認が必要。\n",
    "予測精度が0.7以上: 与信判定に問題あり。貸し出し不可。\n",
    "\n",
    "### リーズンコードの基準\n",
    "PAY_*, BILL_AMT*, PAY_AMT*が8個以上含まれる場合は、過去の返済履歴に問題ありとなります。\n",
    "PAY_*, BILL_AMT*, PAY_AMT*が8個未満であれば含まれる場合は、返済履歴には問題がありません。\n",
    "\n",
    "'''.format(pred_prob, list(df_contrib[df_contrib['contributions']>0]['features']))\n",
    "\n",
    "LlmModel = 'microsoft/Phi-3-medium-128k-instruct'\n",
    "\n",
    "with client.connect(chat_session_id) as session:\n",
    "    reply = session.query(\n",
    "        message = Message,\n",
    "        system_prompt=SysPrompt,\n",
    "        llm=LlmModel,\n",
    "        rag_config={\"rag_type\": \"llm_only\",},\n",
    "    )\n",
    "    print(reply.content)"
   ]
  },
  {
   "cell_type": "code",
   "execution_count": 64,
   "id": "454187c5",
   "metadata": {},
   "outputs": [
    {
     "name": "stdout",
     "output_type": "stream",
     "text": [
      "\n",
      "予測モデルの予測結果: 0.6974739273081736\n",
      "予測モデルの予測結果を、以下の与信判断の目安の目安に従って、与信可否の判定をして下さい。\n",
      "\n",
      "リーズンコードの結果:['EDUCATION', 'MARRIAGE', 'AGE', 'PAY_1', 'PAY_2', 'PAY_3', 'PAY_4', 'PAY_5', 'BILL_AMT1', 'BILL_AMT2', 'PAY_AMT1', 'PAY_AMT2', 'PAY_AMT3', 'PAY_AMT4', 'PAY_AMT5', 'PAY_AMT6']\n",
      "与信可否の判定において、リーズンコードの確認が必要な場合は、リーズンコードの結果に従い、以下のリーズンコードの基準に理由を述べて下さい。\n",
      "\n",
      "### 与信判断の目安\n",
      "予測精度が0.3以下: 与信判定に問題なし。貸し出し可能。\n",
      "予測精度が0.3~0.7: 与信判定に問題ありの可能性。リーズンコードの確認が必要。\n",
      "予測精度が0.7以上: 与信判定に問題あり。貸し出し不可。\n",
      "\n",
      "### リーズンコードの基準\n",
      "PAY_*, BILL_AMT*, PAY_AMT*が8個以上含まれる場合は、過去の返済履歴に問題ありとなります。\n",
      "PAY_*, BILL_AMT*, PAY_AMT*が8個未満であれば含まれる場合は、返済履歴には問題がありません。\n",
      "\n",
      "\n"
     ]
    }
   ],
   "source": [
    "# LLMに投げたプロンプト\n",
    "print(Message)"
   ]
  },
  {
   "cell_type": "code",
   "execution_count": null,
   "id": "05cc5119",
   "metadata": {},
   "outputs": [],
   "source": []
  }
 ],
 "metadata": {
  "kernelspec": {
   "display_name": "Python [conda env:llm] *",
   "language": "python",
   "name": "conda-env-llm-py"
  },
  "language_info": {
   "codemirror_mode": {
    "name": "ipython",
    "version": 3
   },
   "file_extension": ".py",
   "mimetype": "text/x-python",
   "name": "python",
   "nbconvert_exporter": "python",
   "pygments_lexer": "ipython3",
   "version": "3.10.12"
  }
 },
 "nbformat": 4,
 "nbformat_minor": 5
}
