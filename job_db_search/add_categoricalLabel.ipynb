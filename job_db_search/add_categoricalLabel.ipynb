{
 "cells": [
  {
   "cell_type": "markdown",
   "id": "8b40260c",
   "metadata": {},
   "source": [
    "metric learningのためにJob DBラベルを付与"
   ]
  },
  {
   "cell_type": "code",
   "execution_count": 31,
   "id": "3e3f7838",
   "metadata": {},
   "outputs": [],
   "source": [
    "import pandas as pd\n",
    "\n",
    "from sklearn.decomposition import PCA\n",
    "from sklearn.cluster import KMeans\n",
    "\n",
    "from sentence_transformers import SentenceTransformer"
   ]
  },
  {
   "cell_type": "code",
   "execution_count": 3,
   "id": "33bdfc71",
   "metadata": {},
   "outputs": [
    {
     "name": "stdout",
     "output_type": "stream",
     "text": [
      "jd_db.csv        job_database.csv\r\n"
     ]
    }
   ],
   "source": [
    "!ls data"
   ]
  },
  {
   "cell_type": "code",
   "execution_count": 6,
   "id": "9b24a147",
   "metadata": {},
   "outputs": [
    {
     "data": {
      "text/html": [
       "<div>\n",
       "<style scoped>\n",
       "    .dataframe tbody tr th:only-of-type {\n",
       "        vertical-align: middle;\n",
       "    }\n",
       "\n",
       "    .dataframe tbody tr th {\n",
       "        vertical-align: top;\n",
       "    }\n",
       "\n",
       "    .dataframe thead th {\n",
       "        text-align: right;\n",
       "    }\n",
       "</style>\n",
       "<table border=\"1\" class=\"dataframe\">\n",
       "  <thead>\n",
       "    <tr style=\"text-align: right;\">\n",
       "      <th></th>\n",
       "      <th>job_id</th>\n",
       "      <th>industry</th>\n",
       "      <th>role</th>\n",
       "      <th>rank</th>\n",
       "      <th>skill_sets</th>\n",
       "    </tr>\n",
       "  </thead>\n",
       "  <tbody>\n",
       "    <tr>\n",
       "      <th>0</th>\n",
       "      <td>1</td>\n",
       "      <td>化学工業</td>\n",
       "      <td>安全管理者</td>\n",
       "      <td>シニア</td>\n",
       "      <td>- 長年の経験と知識を持った化学工業の安全管理に堪能すること\\n- 法令や規制に基づいた安全...</td>\n",
       "    </tr>\n",
       "    <tr>\n",
       "      <th>1</th>\n",
       "      <td>2</td>\n",
       "      <td>物流・運輸業</td>\n",
       "      <td>物流コーディネーター</td>\n",
       "      <td>ミドル</td>\n",
       "      <td>- 物流業界の知識と経験\\n- 日本語と英語の流暢なコミュニケーション能力\\n- 計画と調整...</td>\n",
       "    </tr>\n",
       "    <tr>\n",
       "      <th>2</th>\n",
       "      <td>3</td>\n",
       "      <td>農業</td>\n",
       "      <td>物流担当</td>\n",
       "      <td>ミドル</td>\n",
       "      <td>- 農業物流の知識と経験\\n- 貨物管理と配送計画の作成\\n- 仕入れと倉庫管理のスキル\\n...</td>\n",
       "    </tr>\n",
       "    <tr>\n",
       "      <th>3</th>\n",
       "      <td>4</td>\n",
       "      <td>物流・運輸業</td>\n",
       "      <td>倉庫管理</td>\n",
       "      <td>ジュニア</td>\n",
       "      <td>- 倉庫管理の基礎知識\\n- 在庫管理の基本的な手続き\\n- 品質管理の知識\\n- 安全管理...</td>\n",
       "    </tr>\n",
       "    <tr>\n",
       "      <th>4</th>\n",
       "      <td>5</td>\n",
       "      <td>卸売業</td>\n",
       "      <td>受注管理</td>\n",
       "      <td>ジュニア</td>\n",
       "      <td>- 注文受付と確認の手続きに堪能な経験\\n- 在庫管理と注文処理の知識\\n- 商品情報の入力...</td>\n",
       "    </tr>\n",
       "  </tbody>\n",
       "</table>\n",
       "</div>"
      ],
      "text/plain": [
       "   job_id industry        role  rank  \\\n",
       "0       1     化学工業       安全管理者   シニア   \n",
       "1       2   物流・運輸業  物流コーディネーター   ミドル   \n",
       "2       3       農業        物流担当   ミドル   \n",
       "3       4   物流・運輸業        倉庫管理  ジュニア   \n",
       "4       5      卸売業        受注管理  ジュニア   \n",
       "\n",
       "                                          skill_sets  \n",
       "0  - 長年の経験と知識を持った化学工業の安全管理に堪能すること\\n- 法令や規制に基づいた安全...  \n",
       "1  - 物流業界の知識と経験\\n- 日本語と英語の流暢なコミュニケーション能力\\n- 計画と調整...  \n",
       "2  - 農業物流の知識と経験\\n- 貨物管理と配送計画の作成\\n- 仕入れと倉庫管理のスキル\\n...  \n",
       "3  - 倉庫管理の基礎知識\\n- 在庫管理の基本的な手続き\\n- 品質管理の知識\\n- 安全管理...  \n",
       "4  - 注文受付と確認の手続きに堪能な経験\\n- 在庫管理と注文処理の知識\\n- 商品情報の入力...  "
      ]
     },
     "execution_count": 6,
     "metadata": {},
     "output_type": "execute_result"
    }
   ],
   "source": [
    "df = pd.read_csv('data/job_database.csv')\n",
    "df.head()"
   ]
  },
  {
   "cell_type": "code",
   "execution_count": 11,
   "id": "f6eb690b",
   "metadata": {},
   "outputs": [
    {
     "data": {
      "text/plain": [
       "0    - 長年の経験と知識を持った化学工業の安全管理に堪能すること\\n- 法令や規制に基づいた安全...\n",
       "1    - 物流業界の知識と経験\\n- 日本語と英語の流暢なコミュニケーション能力\\n- 計画と調整...\n",
       "Name: skill_sets, dtype: object"
      ]
     },
     "execution_count": 11,
     "metadata": {},
     "output_type": "execute_result"
    }
   ],
   "source": [
    "sentences = df.loc[:1, 'skill_sets']\n",
    "sentences"
   ]
  },
  {
   "cell_type": "code",
   "execution_count": 12,
   "id": "4d9db417",
   "metadata": {},
   "outputs": [
    {
     "data": {
      "application/vnd.jupyter.widget-view+json": {
       "model_id": "cf0f55e7567747ad91d20990462820d5",
       "version_major": 2,
       "version_minor": 0
      },
      "text/plain": [
       "modules.json:   0%|          | 0.00/229 [00:00<?, ?B/s]"
      ]
     },
     "metadata": {},
     "output_type": "display_data"
    },
    {
     "data": {
      "application/vnd.jupyter.widget-view+json": {
       "model_id": "1455b48d0848442fb1903eba896ee453",
       "version_major": 2,
       "version_minor": 0
      },
      "text/plain": [
       "config_sentence_transformers.json:   0%|          | 0.00/122 [00:00<?, ?B/s]"
      ]
     },
     "metadata": {},
     "output_type": "display_data"
    },
    {
     "data": {
      "application/vnd.jupyter.widget-view+json": {
       "model_id": "a6f121158e59479e9ad36947a8739d93",
       "version_major": 2,
       "version_minor": 0
      },
      "text/plain": [
       "README.md:   0%|          | 0.00/4.12k [00:00<?, ?B/s]"
      ]
     },
     "metadata": {},
     "output_type": "display_data"
    },
    {
     "data": {
      "application/vnd.jupyter.widget-view+json": {
       "model_id": "7f29b0d8107b4c66a34984a0ba24bbb3",
       "version_major": 2,
       "version_minor": 0
      },
      "text/plain": [
       "sentence_bert_config.json:   0%|          | 0.00/53.0 [00:00<?, ?B/s]"
      ]
     },
     "metadata": {},
     "output_type": "display_data"
    },
    {
     "data": {
      "application/vnd.jupyter.widget-view+json": {
       "model_id": "e5d301c054c54373b054dba3a14669c3",
       "version_major": 2,
       "version_minor": 0
      },
      "text/plain": [
       "config.json:   0%|          | 0.00/645 [00:00<?, ?B/s]"
      ]
     },
     "metadata": {},
     "output_type": "display_data"
    },
    {
     "data": {
      "application/vnd.jupyter.widget-view+json": {
       "model_id": "e7ac3833c58845228225d360ac2e1782",
       "version_major": 2,
       "version_minor": 0
      },
      "text/plain": [
       "model.safetensors:   0%|          | 0.00/471M [00:00<?, ?B/s]"
      ]
     },
     "metadata": {},
     "output_type": "display_data"
    },
    {
     "data": {
      "application/vnd.jupyter.widget-view+json": {
       "model_id": "8195a737940442088451b9e6a9a8c092",
       "version_major": 2,
       "version_minor": 0
      },
      "text/plain": [
       "tokenizer_config.json:   0%|          | 0.00/480 [00:00<?, ?B/s]"
      ]
     },
     "metadata": {},
     "output_type": "display_data"
    },
    {
     "data": {
      "application/vnd.jupyter.widget-view+json": {
       "model_id": "c926003eac1d43a08748ab2c66cffcfd",
       "version_major": 2,
       "version_minor": 0
      },
      "text/plain": [
       "tokenizer.json:   0%|          | 0.00/9.08M [00:00<?, ?B/s]"
      ]
     },
     "metadata": {},
     "output_type": "display_data"
    },
    {
     "data": {
      "application/vnd.jupyter.widget-view+json": {
       "model_id": "d53cb80249bf42d89d71fd2dda3ed36d",
       "version_major": 2,
       "version_minor": 0
      },
      "text/plain": [
       "special_tokens_map.json:   0%|          | 0.00/239 [00:00<?, ?B/s]"
      ]
     },
     "metadata": {},
     "output_type": "display_data"
    },
    {
     "data": {
      "application/vnd.jupyter.widget-view+json": {
       "model_id": "9adde7eca9e74f949b03686fdfab9f19",
       "version_major": 2,
       "version_minor": 0
      },
      "text/plain": [
       "1_Pooling/config.json:   0%|          | 0.00/190 [00:00<?, ?B/s]"
      ]
     },
     "metadata": {},
     "output_type": "display_data"
    },
    {
     "data": {
      "text/plain": [
       "SentenceTransformer(\n",
       "  (0): Transformer({'max_seq_length': 128, 'do_lower_case': False}) with Transformer model: BertModel \n",
       "  (1): Pooling({'word_embedding_dimension': 384, 'pooling_mode_cls_token': False, 'pooling_mode_mean_tokens': True, 'pooling_mode_max_tokens': False, 'pooling_mode_mean_sqrt_len_tokens': False, 'pooling_mode_weightedmean_tokens': False, 'pooling_mode_lasttoken': False, 'include_prompt': True})\n",
       ")"
      ]
     },
     "execution_count": 12,
     "metadata": {},
     "output_type": "execute_result"
    }
   ],
   "source": [
    "model = SentenceTransformer('sentence-transformers/paraphrase-multilingual-MiniLM-L12-v2')\n",
    "model"
   ]
  },
  {
   "cell_type": "code",
   "execution_count": 13,
   "id": "6facea84",
   "metadata": {},
   "outputs": [
    {
     "name": "stdout",
     "output_type": "stream",
     "text": [
      "CPU times: user 1.01 s, sys: 504 ms, total: 1.51 s\n",
      "Wall time: 6.53 s\n"
     ]
    }
   ],
   "source": [
    "%%time\n",
    "embeddings = model.encode(sentences)"
   ]
  },
  {
   "cell_type": "code",
   "execution_count": 15,
   "id": "46d03929",
   "metadata": {},
   "outputs": [
    {
     "data": {
      "text/plain": [
       "(2, 384)"
      ]
     },
     "execution_count": 15,
     "metadata": {},
     "output_type": "execute_result"
    }
   ],
   "source": [
    "embeddings.shape"
   ]
  },
  {
   "cell_type": "code",
   "execution_count": 28,
   "id": "4e98423d",
   "metadata": {},
   "outputs": [
    {
     "name": "stdout",
     "output_type": "stream",
     "text": [
      "CPU times: user 914 ms, sys: 204 ms, total: 1.12 s\n",
      "Wall time: 1.45 s\n"
     ]
    },
    {
     "data": {
      "text/plain": [
       "(500, 384)"
      ]
     },
     "execution_count": 28,
     "metadata": {},
     "output_type": "execute_result"
    }
   ],
   "source": [
    "%%time\n",
    "embeddings = model.encode(df['skill_sets'])\n",
    "embeddings.shape"
   ]
  },
  {
   "cell_type": "code",
   "execution_count": 30,
   "id": "b35aabe9",
   "metadata": {},
   "outputs": [
    {
     "data": {
      "text/plain": [
       "array([[ 0.08179791,  0.32798678, -0.26122308, ...,  0.05287066,\n",
       "         0.2455722 , -0.00194317],\n",
       "       [ 0.22747383, -0.11405208, -0.04640952, ...,  0.10698601,\n",
       "        -0.02369653, -0.00276701],\n",
       "       [ 0.2801222 ,  0.02454388,  0.06674293, ...,  0.15160972,\n",
       "        -0.08498413,  0.03406944],\n",
       "       ...,\n",
       "       [ 0.17419872, -0.00867297,  0.06398754, ...,  0.2060584 ,\n",
       "         0.06267846,  0.06713144],\n",
       "       [-0.1771186 ,  0.0649301 , -0.24090846, ...,  0.08244245,\n",
       "        -0.03545104,  0.01282372],\n",
       "       [-0.10728465, -0.24596453, -0.13928963, ...,  0.1283184 ,\n",
       "        -0.07387856, -0.05167005]], dtype=float32)"
      ]
     },
     "execution_count": 30,
     "metadata": {},
     "output_type": "execute_result"
    }
   ],
   "source": [
    "embeddings"
   ]
  },
  {
   "cell_type": "code",
   "execution_count": 34,
   "id": "97ff6889",
   "metadata": {},
   "outputs": [
    {
     "data": {
      "text/plain": [
       "(500, 50)"
      ]
     },
     "execution_count": 34,
     "metadata": {},
     "output_type": "execute_result"
    }
   ],
   "source": [
    "# PCA次元削減\n",
    "pca = PCA(n_components=50)\n",
    "reduced_data = pca.fit_transform(embeddings)\n",
    "reduced_data.shape"
   ]
  },
  {
   "cell_type": "code",
   "execution_count": 37,
   "id": "c12c1605",
   "metadata": {},
   "outputs": [
    {
     "data": {
      "text/plain": [
       "(500,)"
      ]
     },
     "execution_count": 37,
     "metadata": {},
     "output_type": "execute_result"
    }
   ],
   "source": [
    "# k-meansクラスタリング\n",
    "kmeans = KMeans(n_clusters=30, random_state=42)\n",
    "kmeans.fit(reduced_data)\n",
    "cluster_labels = kmeans.labels_\n",
    "cluster_labels.shape"
   ]
  },
  {
   "cell_type": "code",
   "execution_count": 39,
   "id": "ab4f66df",
   "metadata": {},
   "outputs": [
    {
     "data": {
      "text/plain": [
       "8     34\n",
       "0     30\n",
       "6     28\n",
       "3     26\n",
       "4     25\n",
       "20    23\n",
       "9     22\n",
       "22    22\n",
       "11    21\n",
       "18    20\n",
       "19    19\n",
       "10    19\n",
       "14    17\n",
       "13    16\n",
       "23    14\n",
       "7     13\n",
       "25    13\n",
       "16    13\n",
       "26    13\n",
       "2     13\n",
       "17    12\n",
       "15    12\n",
       "24    12\n",
       "5     11\n",
       "12    11\n",
       "21    10\n",
       "27    10\n",
       "29     9\n",
       "1      7\n",
       "28     5\n",
       "Name: count, dtype: int64"
      ]
     },
     "execution_count": 39,
     "metadata": {},
     "output_type": "execute_result"
    }
   ],
   "source": [
    "pd.Series(cluster_labels).value_counts()"
   ]
  },
  {
   "cell_type": "code",
   "execution_count": 41,
   "id": "ea0a6504",
   "metadata": {},
   "outputs": [],
   "source": [
    "df['category_label'] = cluster_labels"
   ]
  },
  {
   "cell_type": "code",
   "execution_count": 44,
   "id": "a00dd4a2",
   "metadata": {},
   "outputs": [],
   "source": [
    "df.to_csv('data/job_database_wCategory.csv', index=False)"
   ]
  },
  {
   "cell_type": "code",
   "execution_count": null,
   "id": "d5b28ea0",
   "metadata": {},
   "outputs": [],
   "source": []
  },
  {
   "cell_type": "code",
   "execution_count": 52,
   "id": "01efa5fe",
   "metadata": {},
   "outputs": [
    {
     "data": {
      "text/html": [
       "<div>\n",
       "<style scoped>\n",
       "    .dataframe tbody tr th:only-of-type {\n",
       "        vertical-align: middle;\n",
       "    }\n",
       "\n",
       "    .dataframe tbody tr th {\n",
       "        vertical-align: top;\n",
       "    }\n",
       "\n",
       "    .dataframe thead th {\n",
       "        text-align: right;\n",
       "    }\n",
       "</style>\n",
       "<table border=\"1\" class=\"dataframe\">\n",
       "  <thead>\n",
       "    <tr style=\"text-align: right;\">\n",
       "      <th></th>\n",
       "      <th>job_id</th>\n",
       "      <th>industry</th>\n",
       "      <th>role</th>\n",
       "      <th>rank</th>\n",
       "      <th>skill_sets</th>\n",
       "      <th>category_label</th>\n",
       "    </tr>\n",
       "  </thead>\n",
       "  <tbody>\n",
       "    <tr>\n",
       "      <th>4</th>\n",
       "      <td>5</td>\n",
       "      <td>卸売業</td>\n",
       "      <td>受注管理</td>\n",
       "      <td>ジュニア</td>\n",
       "      <td>- 注文受付と確認の手続きに堪能な経験\\n- 在庫管理と注文処理の知識\\n- 商品情報の入力...</td>\n",
       "      <td>6</td>\n",
       "    </tr>\n",
       "    <tr>\n",
       "      <th>9</th>\n",
       "      <td>10</td>\n",
       "      <td>製薬業</td>\n",
       "      <td>購買担当</td>\n",
       "      <td>ミドル</td>\n",
       "      <td>- 薬品購買の経験\\n- 価格負帳管理の経験\\n- 供給鎖の整備と管理\\n- 財務分析の能力...</td>\n",
       "      <td>6</td>\n",
       "    </tr>\n",
       "    <tr>\n",
       "      <th>22</th>\n",
       "      <td>23</td>\n",
       "      <td>卸売業</td>\n",
       "      <td>商品企画担当</td>\n",
       "      <td>ジュニア</td>\n",
       "      <td>- 新商品の開発経験\\n- 市場調査能力\\n- 競合分析能力\\n- 製品開発プロセスに� f...</td>\n",
       "      <td>6</td>\n",
       "    </tr>\n",
       "    <tr>\n",
       "      <th>32</th>\n",
       "      <td>33</td>\n",
       "      <td>卸売業</td>\n",
       "      <td>受注管理</td>\n",
       "      <td>ジュニア</td>\n",
       "      <td>- 注文受付と確認の手続きに堪能な経験\\n- 在庫管理と注文処理の知識\\n- 商品情報の入力...</td>\n",
       "      <td>6</td>\n",
       "    </tr>\n",
       "    <tr>\n",
       "      <th>78</th>\n",
       "      <td>79</td>\n",
       "      <td>食品・飲料製造業</td>\n",
       "      <td>購買担当</td>\n",
       "      <td>シニア</td>\n",
       "      <td>- 5 年以上の購買経験\\n- 食品・飲料製造業に特化した知識\\n- 価格負債管理の経験\\n...</td>\n",
       "      <td>6</td>\n",
       "    </tr>\n",
       "    <tr>\n",
       "      <th>97</th>\n",
       "      <td>98</td>\n",
       "      <td>卸売業</td>\n",
       "      <td>在庫管理</td>\n",
       "      <td>シニア</td>\n",
       "      <td>- 在庫管理の高度な知識と経験\\n- 在庫システムの操作に堪能なITスキル\\n- 財務分析や...</td>\n",
       "      <td>6</td>\n",
       "    </tr>\n",
       "    <tr>\n",
       "      <th>105</th>\n",
       "      <td>106</td>\n",
       "      <td>農業</td>\n",
       "      <td>購買担当</td>\n",
       "      <td>ミドル</td>\n",
       "      <td>- 農業品の購買経験\\n- 仕入れ単価の計算能力\\n- 仕入れニュースの把握\\n- 販売予測...</td>\n",
       "      <td>6</td>\n",
       "    </tr>\n",
       "    <tr>\n",
       "      <th>120</th>\n",
       "      <td>121</td>\n",
       "      <td>化学工業</td>\n",
       "      <td>ロジスティクス担当</td>\n",
       "      <td>シニア</td>\n",
       "      <td>- 5年以上のロジスティクス業界の経験\\n- 化学工業分野の知識と経験\\n- 在庫管理と需要...</td>\n",
       "      <td>6</td>\n",
       "    </tr>\n",
       "    <tr>\n",
       "      <th>236</th>\n",
       "      <td>237</td>\n",
       "      <td>化学工業</td>\n",
       "      <td>購買担当</td>\n",
       "      <td>シニア</td>\n",
       "      <td>- 5年以上の購買経験\\n- 化学工業分野の知識\\n- 価格負帰分析の実践経験\\n- 供給鎖...</td>\n",
       "      <td>6</td>\n",
       "    </tr>\n",
       "    <tr>\n",
       "      <th>241</th>\n",
       "      <td>242</td>\n",
       "      <td>製薬業</td>\n",
       "      <td>購買担当</td>\n",
       "      <td>ジュニア</td>\n",
       "      <td>- 購買関連の学業・専門知識\\n- 仕入れ・仕入れ管理の経験\\n- 価格評価能力\\n- 数学...</td>\n",
       "      <td>6</td>\n",
       "    </tr>\n",
       "    <tr>\n",
       "      <th>253</th>\n",
       "      <td>254</td>\n",
       "      <td>化学工業</td>\n",
       "      <td>営業担当</td>\n",
       "      <td>シニア</td>\n",
       "      <td>- 化学工業の知識と経験\\n- 営業戦略の立案と計画\\n- 顧客開拓と維持\\n- 営業談判と...</td>\n",
       "      <td>6</td>\n",
       "    </tr>\n",
       "    <tr>\n",
       "      <th>266</th>\n",
       "      <td>267</td>\n",
       "      <td>卸売業</td>\n",
       "      <td>受注管理</td>\n",
       "      <td>シニア</td>\n",
       "      <td>- 卸売業界の経験\\n- 長期的な受注管理の経験\\n- 高度な数学的能力（価格計算、在庫管理...</td>\n",
       "      <td>6</td>\n",
       "    </tr>\n",
       "    <tr>\n",
       "      <th>285</th>\n",
       "      <td>286</td>\n",
       "      <td>ソフトウェア開発業</td>\n",
       "      <td>プロダクトマネージャー</td>\n",
       "      <td>ジュニア</td>\n",
       "      <td>- 新しい製品のアイデアの生み出しと開発プロセスの管理\\n- 市場調査や競合分析を通じた市場...</td>\n",
       "      <td>6</td>\n",
       "    </tr>\n",
       "    <tr>\n",
       "      <th>297</th>\n",
       "      <td>298</td>\n",
       "      <td>食品・飲料製造業</td>\n",
       "      <td>購買担当</td>\n",
       "      <td>ジュニア</td>\n",
       "      <td>- 食品や飲料の知識\\n- 仕入れに関する知識\\n- 価格の比較と評価能力\\n- 協調性と交...</td>\n",
       "      <td>6</td>\n",
       "    </tr>\n",
       "    <tr>\n",
       "      <th>300</th>\n",
       "      <td>301</td>\n",
       "      <td>建設業</td>\n",
       "      <td>購買担当</td>\n",
       "      <td>ジュニア</td>\n",
       "      <td>- 建設業に基本的な知識\\n- 仕入れに必要な計画整理能力\\n- 仕入れ契約書の作成に堪能な...</td>\n",
       "      <td>6</td>\n",
       "    </tr>\n",
       "    <tr>\n",
       "      <th>309</th>\n",
       "      <td>310</td>\n",
       "      <td>自動車製造業</td>\n",
       "      <td>購買担当</td>\n",
       "      <td>ミドル</td>\n",
       "      <td>- 自動車業界の知識と経験\\n- 購買戦略の開発と実行\\n- 仕入れ先の選定と管理\\n- 価...</td>\n",
       "      <td>6</td>\n",
       "    </tr>\n",
       "    <tr>\n",
       "      <th>310</th>\n",
       "      <td>311</td>\n",
       "      <td>ソフトウェア開発業</td>\n",
       "      <td>プロダクトマネージャー</td>\n",
       "      <td>ジュニア</td>\n",
       "      <td>- 新しい製品のアイデアの生み出しと開発プロセスの管理\\n- 市場調査や競合分析を通じた市場...</td>\n",
       "      <td>6</td>\n",
       "    </tr>\n",
       "    <tr>\n",
       "      <th>314</th>\n",
       "      <td>315</td>\n",
       "      <td>自動車製造業</td>\n",
       "      <td>購買担当</td>\n",
       "      <td>ミドル</td>\n",
       "      <td>- 自動車業界の知識と経験\\n- 購買戦略の開発と実行\\n- 仕入れ先の選定と管理\\n- 価...</td>\n",
       "      <td>6</td>\n",
       "    </tr>\n",
       "    <tr>\n",
       "      <th>339</th>\n",
       "      <td>340</td>\n",
       "      <td>金融業</td>\n",
       "      <td>トレーダー</td>\n",
       "      <td>シニア</td>\n",
       "      <td>- 貿易市場の深い知識と経験\\n- 金融商品の堪能な判断能力\\n- リスク管理の高度な戦略\\...</td>\n",
       "      <td>6</td>\n",
       "    </tr>\n",
       "    <tr>\n",
       "      <th>381</th>\n",
       "      <td>382</td>\n",
       "      <td>卸売業</td>\n",
       "      <td>在庫管理</td>\n",
       "      <td>シニア</td>\n",
       "      <td>- 在庫管理の高度な知識と経験\\n- 在庫システムの操作に堪能なITスキル\\n- 財務分析や...</td>\n",
       "      <td>6</td>\n",
       "    </tr>\n",
       "    <tr>\n",
       "      <th>387</th>\n",
       "      <td>388</td>\n",
       "      <td>家電製造業</td>\n",
       "      <td>研究開発エンジニア</td>\n",
       "      <td>ミドル</td>\n",
       "      <td>- 家電製造業に慣れた知識と経験\\n- 新しい製品の開発に堪能な設計能力\\n- 高度な電子回...</td>\n",
       "      <td>6</td>\n",
       "    </tr>\n",
       "    <tr>\n",
       "      <th>388</th>\n",
       "      <td>389</td>\n",
       "      <td>卸売業</td>\n",
       "      <td>購買担当</td>\n",
       "      <td>シニア</td>\n",
       "      <td>- 卸売業界の経験\\n- 買い物の計画と実行\\n- 仕入れ価格のネゴシエーション\\n- 在庫...</td>\n",
       "      <td>6</td>\n",
       "    </tr>\n",
       "    <tr>\n",
       "      <th>412</th>\n",
       "      <td>413</td>\n",
       "      <td>卸売業</td>\n",
       "      <td>受注管理</td>\n",
       "      <td>ジュニア</td>\n",
       "      <td>- 注文受付と確認の手続きに堪能な経験\\n- 在庫管理と注文処理の知識\\n- 商品情報の入力...</td>\n",
       "      <td>6</td>\n",
       "    </tr>\n",
       "    <tr>\n",
       "      <th>420</th>\n",
       "      <td>421</td>\n",
       "      <td>小売業</td>\n",
       "      <td>ロジスティクス担当</td>\n",
       "      <td>ミドル</td>\n",
       "      <td>- 至少3年以上のロジスティクス業界の経験\\n- 小売業に特化した在庫管理の知識\\n- 輸送...</td>\n",
       "      <td>6</td>\n",
       "    </tr>\n",
       "    <tr>\n",
       "      <th>438</th>\n",
       "      <td>439</td>\n",
       "      <td>繊維業</td>\n",
       "      <td>購買担当</td>\n",
       "      <td>ジュニア</td>\n",
       "      <td>- Basic understanding of procurement processes...</td>\n",
       "      <td>6</td>\n",
       "    </tr>\n",
       "    <tr>\n",
       "      <th>441</th>\n",
       "      <td>442</td>\n",
       "      <td>卸売業</td>\n",
       "      <td>在庫管理</td>\n",
       "      <td>シニア</td>\n",
       "      <td>- 在庫管理の高度な知識と経験\\n- 在庫システムの操作に堪能\\n- 数学的思考力と精度\\n...</td>\n",
       "      <td>6</td>\n",
       "    </tr>\n",
       "    <tr>\n",
       "      <th>466</th>\n",
       "      <td>467</td>\n",
       "      <td>宇宙開発業</td>\n",
       "      <td>購買担当</td>\n",
       "      <td>ジュニア</td>\n",
       "      <td>- Basic understanding of procurement and suppl...</td>\n",
       "      <td>6</td>\n",
       "    </tr>\n",
       "    <tr>\n",
       "      <th>485</th>\n",
       "      <td>486</td>\n",
       "      <td>卸売業</td>\n",
       "      <td>在庫管理</td>\n",
       "      <td>ミドル</td>\n",
       "      <td>- 在庫管理の経験\\n- ERP/WMSシステムの操作経験\\n- 数学的思考能力\\n- 財務...</td>\n",
       "      <td>6</td>\n",
       "    </tr>\n",
       "  </tbody>\n",
       "</table>\n",
       "</div>"
      ],
      "text/plain": [
       "     job_id   industry         role  rank  \\\n",
       "4         5        卸売業         受注管理  ジュニア   \n",
       "9        10        製薬業         購買担当   ミドル   \n",
       "22       23        卸売業       商品企画担当  ジュニア   \n",
       "32       33        卸売業         受注管理  ジュニア   \n",
       "78       79   食品・飲料製造業         購買担当   シニア   \n",
       "97       98        卸売業         在庫管理   シニア   \n",
       "105     106         農業         購買担当   ミドル   \n",
       "120     121       化学工業    ロジスティクス担当   シニア   \n",
       "236     237       化学工業         購買担当   シニア   \n",
       "241     242        製薬業         購買担当  ジュニア   \n",
       "253     254       化学工業         営業担当   シニア   \n",
       "266     267        卸売業         受注管理   シニア   \n",
       "285     286  ソフトウェア開発業  プロダクトマネージャー  ジュニア   \n",
       "297     298   食品・飲料製造業         購買担当  ジュニア   \n",
       "300     301        建設業         購買担当  ジュニア   \n",
       "309     310     自動車製造業         購買担当   ミドル   \n",
       "310     311  ソフトウェア開発業  プロダクトマネージャー  ジュニア   \n",
       "314     315     自動車製造業         購買担当   ミドル   \n",
       "339     340        金融業        トレーダー   シニア   \n",
       "381     382        卸売業         在庫管理   シニア   \n",
       "387     388      家電製造業    研究開発エンジニア   ミドル   \n",
       "388     389        卸売業         購買担当   シニア   \n",
       "412     413        卸売業         受注管理  ジュニア   \n",
       "420     421        小売業    ロジスティクス担当   ミドル   \n",
       "438     439        繊維業         購買担当  ジュニア   \n",
       "441     442        卸売業         在庫管理   シニア   \n",
       "466     467      宇宙開発業         購買担当  ジュニア   \n",
       "485     486        卸売業         在庫管理   ミドル   \n",
       "\n",
       "                                            skill_sets  category_label  \n",
       "4    - 注文受付と確認の手続きに堪能な経験\\n- 在庫管理と注文処理の知識\\n- 商品情報の入力...               6  \n",
       "9    - 薬品購買の経験\\n- 価格負帳管理の経験\\n- 供給鎖の整備と管理\\n- 財務分析の能力...               6  \n",
       "22   - 新商品の開発経験\\n- 市場調査能力\\n- 競合分析能力\\n- 製品開発プロセスに� f...               6  \n",
       "32   - 注文受付と確認の手続きに堪能な経験\\n- 在庫管理と注文処理の知識\\n- 商品情報の入力...               6  \n",
       "78   - 5 年以上の購買経験\\n- 食品・飲料製造業に特化した知識\\n- 価格負債管理の経験\\n...               6  \n",
       "97   - 在庫管理の高度な知識と経験\\n- 在庫システムの操作に堪能なITスキル\\n- 財務分析や...               6  \n",
       "105  - 農業品の購買経験\\n- 仕入れ単価の計算能力\\n- 仕入れニュースの把握\\n- 販売予測...               6  \n",
       "120  - 5年以上のロジスティクス業界の経験\\n- 化学工業分野の知識と経験\\n- 在庫管理と需要...               6  \n",
       "236  - 5年以上の購買経験\\n- 化学工業分野の知識\\n- 価格負帰分析の実践経験\\n- 供給鎖...               6  \n",
       "241  - 購買関連の学業・専門知識\\n- 仕入れ・仕入れ管理の経験\\n- 価格評価能力\\n- 数学...               6  \n",
       "253  - 化学工業の知識と経験\\n- 営業戦略の立案と計画\\n- 顧客開拓と維持\\n- 営業談判と...               6  \n",
       "266  - 卸売業界の経験\\n- 長期的な受注管理の経験\\n- 高度な数学的能力（価格計算、在庫管理...               6  \n",
       "285  - 新しい製品のアイデアの生み出しと開発プロセスの管理\\n- 市場調査や競合分析を通じた市場...               6  \n",
       "297  - 食品や飲料の知識\\n- 仕入れに関する知識\\n- 価格の比較と評価能力\\n- 協調性と交...               6  \n",
       "300  - 建設業に基本的な知識\\n- 仕入れに必要な計画整理能力\\n- 仕入れ契約書の作成に堪能な...               6  \n",
       "309  - 自動車業界の知識と経験\\n- 購買戦略の開発と実行\\n- 仕入れ先の選定と管理\\n- 価...               6  \n",
       "310  - 新しい製品のアイデアの生み出しと開発プロセスの管理\\n- 市場調査や競合分析を通じた市場...               6  \n",
       "314  - 自動車業界の知識と経験\\n- 購買戦略の開発と実行\\n- 仕入れ先の選定と管理\\n- 価...               6  \n",
       "339  - 貿易市場の深い知識と経験\\n- 金融商品の堪能な判断能力\\n- リスク管理の高度な戦略\\...               6  \n",
       "381  - 在庫管理の高度な知識と経験\\n- 在庫システムの操作に堪能なITスキル\\n- 財務分析や...               6  \n",
       "387  - 家電製造業に慣れた知識と経験\\n- 新しい製品の開発に堪能な設計能力\\n- 高度な電子回...               6  \n",
       "388  - 卸売業界の経験\\n- 買い物の計画と実行\\n- 仕入れ価格のネゴシエーション\\n- 在庫...               6  \n",
       "412  - 注文受付と確認の手続きに堪能な経験\\n- 在庫管理と注文処理の知識\\n- 商品情報の入力...               6  \n",
       "420  - 至少3年以上のロジスティクス業界の経験\\n- 小売業に特化した在庫管理の知識\\n- 輸送...               6  \n",
       "438  - Basic understanding of procurement processes...               6  \n",
       "441  - 在庫管理の高度な知識と経験\\n- 在庫システムの操作に堪能\\n- 数学的思考力と精度\\n...               6  \n",
       "466  - Basic understanding of procurement and suppl...               6  \n",
       "485  - 在庫管理の経験\\n- ERP/WMSシステムの操作経験\\n- 数学的思考能力\\n- 財務...               6  "
      ]
     },
     "execution_count": 52,
     "metadata": {},
     "output_type": "execute_result"
    }
   ],
   "source": [
    "df[df['category_label']==6]"
   ]
  },
  {
   "cell_type": "code",
   "execution_count": null,
   "id": "e17f0e6f",
   "metadata": {},
   "outputs": [],
   "source": []
  }
 ],
 "metadata": {
  "kernelspec": {
   "display_name": "Python [conda env:llm] *",
   "language": "python",
   "name": "conda-env-llm-py"
  },
  "language_info": {
   "codemirror_mode": {
    "name": "ipython",
    "version": 3
   },
   "file_extension": ".py",
   "mimetype": "text/x-python",
   "name": "python",
   "nbconvert_exporter": "python",
   "pygments_lexer": "ipython3",
   "version": "3.10.12"
  }
 },
 "nbformat": 4,
 "nbformat_minor": 5
}
