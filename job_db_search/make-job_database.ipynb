{
 "cells": [
  {
   "cell_type": "markdown",
   "id": "245154b4",
   "metadata": {},
   "source": [
    "generate_skillsets.ipynbで作成したデータの結合とクリーニング"
   ]
  },
  {
   "cell_type": "code",
   "execution_count": 1,
   "id": "7ebb537c",
   "metadata": {},
   "outputs": [],
   "source": [
    "import pandas as pd"
   ]
  },
  {
   "cell_type": "code",
   "execution_count": 16,
   "id": "68dfde02",
   "metadata": {},
   "outputs": [
    {
     "name": "stdout",
     "output_type": "stream",
     "text": [
      "jd_db.csv                jobdb_07-27-09_49_56.csv jobdb_07-27-10_24_10.csv\r\n",
      "jobdb_07-27-09:32:33.csv jobdb_07-27-10_02_44.csv jobdb_07-27-10_34_53.csv\r\n",
      "jobdb_07-27-09:37:05.csv jobdb_07-27-10_13_25.csv\r\n"
     ]
    }
   ],
   "source": [
    "!ls data"
   ]
  },
  {
   "cell_type": "code",
   "execution_count": 4,
   "id": "75c3fe07",
   "metadata": {},
   "outputs": [
    {
     "data": {
      "text/plain": [
       "(100, 5)"
      ]
     },
     "execution_count": 4,
     "metadata": {},
     "output_type": "execute_result"
    }
   ],
   "source": [
    "d1 = pd.read_csv('data/jobdb_07-27-09_49_56.csv')\n",
    "d1.shape"
   ]
  },
  {
   "cell_type": "code",
   "execution_count": 5,
   "id": "fcbbd405",
   "metadata": {},
   "outputs": [
    {
     "data": {
      "text/html": [
       "<div>\n",
       "<style scoped>\n",
       "    .dataframe tbody tr th:only-of-type {\n",
       "        vertical-align: middle;\n",
       "    }\n",
       "\n",
       "    .dataframe tbody tr th {\n",
       "        vertical-align: top;\n",
       "    }\n",
       "\n",
       "    .dataframe thead th {\n",
       "        text-align: right;\n",
       "    }\n",
       "</style>\n",
       "<table border=\"1\" class=\"dataframe\">\n",
       "  <thead>\n",
       "    <tr style=\"text-align: right;\">\n",
       "      <th></th>\n",
       "      <th>Unnamed: 0</th>\n",
       "      <th>industry</th>\n",
       "      <th>role</th>\n",
       "      <th>rank</th>\n",
       "      <th>skill_sets</th>\n",
       "    </tr>\n",
       "  </thead>\n",
       "  <tbody>\n",
       "    <tr>\n",
       "      <th>0</th>\n",
       "      <td>0</td>\n",
       "      <td>化学工業</td>\n",
       "      <td>安全管理者</td>\n",
       "      <td>シニア</td>\n",
       "      <td>シニア 安全管理者として求められるスキルは以下の通りです。\\n\\n- 長年の経験と知識を持っ...</td>\n",
       "    </tr>\n",
       "    <tr>\n",
       "      <th>1</th>\n",
       "      <td>1</td>\n",
       "      <td>物流・運輸業</td>\n",
       "      <td>物流コーディネーター</td>\n",
       "      <td>ミドル</td>\n",
       "      <td>必要なスキル:\\n\\n- 物流業界の知識と経験\\n- 日本語と英語の流暢なコミュニケーション...</td>\n",
       "    </tr>\n",
       "    <tr>\n",
       "      <th>2</th>\n",
       "      <td>2</td>\n",
       "      <td>農業</td>\n",
       "      <td>物流担当</td>\n",
       "      <td>ミドル</td>\n",
       "      <td>必要なスキル:\\n\\n- 農業物流の知識と経験\\n- 貨物管理と配送計画の作成\\n- 仕入れ...</td>\n",
       "    </tr>\n",
       "    <tr>\n",
       "      <th>3</th>\n",
       "      <td>3</td>\n",
       "      <td>物流・運輸業</td>\n",
       "      <td>倉庫管理</td>\n",
       "      <td>ジュニア</td>\n",
       "      <td>必要なスキル:\\n\\n- 倉庫管理の基礎知識\\n- 在庫管理の基本的な手続き\\n- 品質管理...</td>\n",
       "    </tr>\n",
       "    <tr>\n",
       "      <th>4</th>\n",
       "      <td>4</td>\n",
       "      <td>卸売業</td>\n",
       "      <td>受注管理</td>\n",
       "      <td>ジュニア</td>\n",
       "      <td>必要なスキル:\\n\\n- 注文受付と確認の手続きに堪能な経験\\n- 在庫管理と注文処理の知識...</td>\n",
       "    </tr>\n",
       "    <tr>\n",
       "      <th>...</th>\n",
       "      <td>...</td>\n",
       "      <td>...</td>\n",
       "      <td>...</td>\n",
       "      <td>...</td>\n",
       "      <td>...</td>\n",
       "    </tr>\n",
       "    <tr>\n",
       "      <th>95</th>\n",
       "      <td>95</td>\n",
       "      <td>化学工業</td>\n",
       "      <td>営業担当</td>\n",
       "      <td>ジュニア</td>\n",
       "      <td>必要なスキル:\\n\\n- 化学工業の知識\\n- 営業経験\\n- 顧客対応能力\\n- 商談力\\...</td>\n",
       "    </tr>\n",
       "    <tr>\n",
       "      <th>96</th>\n",
       "      <td>96</td>\n",
       "      <td>エネルギー業</td>\n",
       "      <td>設備管理</td>\n",
       "      <td>ジュニア</td>\n",
       "      <td>REQUIRED SKILLS FOR JUNIOR FACILITY MANAGEMENT...</td>\n",
       "    </tr>\n",
       "    <tr>\n",
       "      <th>97</th>\n",
       "      <td>97</td>\n",
       "      <td>卸売業</td>\n",
       "      <td>在庫管理</td>\n",
       "      <td>シニア</td>\n",
       "      <td>シニア在庫管理者として募集されている場合、以下のスキルが必要です。\\n\\n- 在庫管理の高度...</td>\n",
       "    </tr>\n",
       "    <tr>\n",
       "      <th>98</th>\n",
       "      <td>98</td>\n",
       "      <td>家電製造業</td>\n",
       "      <td>家電設計エンジニア</td>\n",
       "      <td>シニア</td>\n",
       "      <td>必要なスキル:\\n\\n- 5年以上の家電設計エンジニアとした経験\\n- 高度な電子回路デザイ...</td>\n",
       "    </tr>\n",
       "    <tr>\n",
       "      <th>99</th>\n",
       "      <td>99</td>\n",
       "      <td>自動車製造業</td>\n",
       "      <td>物流コーディネーター</td>\n",
       "      <td>ジュニア</td>\n",
       "      <td>自動車製造業において、物流コーディネーターとして働くジュニアの必要スキルは以下の通りです。\\...</td>\n",
       "    </tr>\n",
       "  </tbody>\n",
       "</table>\n",
       "<p>100 rows × 5 columns</p>\n",
       "</div>"
      ],
      "text/plain": [
       "    Unnamed: 0 industry        role  rank  \\\n",
       "0            0     化学工業       安全管理者   シニア   \n",
       "1            1   物流・運輸業  物流コーディネーター   ミドル   \n",
       "2            2       農業        物流担当   ミドル   \n",
       "3            3   物流・運輸業        倉庫管理  ジュニア   \n",
       "4            4      卸売業        受注管理  ジュニア   \n",
       "..         ...      ...         ...   ...   \n",
       "95          95     化学工業        営業担当  ジュニア   \n",
       "96          96   エネルギー業        設備管理  ジュニア   \n",
       "97          97      卸売業        在庫管理   シニア   \n",
       "98          98    家電製造業   家電設計エンジニア   シニア   \n",
       "99          99   自動車製造業  物流コーディネーター  ジュニア   \n",
       "\n",
       "                                           skill_sets  \n",
       "0   シニア 安全管理者として求められるスキルは以下の通りです。\\n\\n- 長年の経験と知識を持っ...  \n",
       "1   必要なスキル:\\n\\n- 物流業界の知識と経験\\n- 日本語と英語の流暢なコミュニケーション...  \n",
       "2   必要なスキル:\\n\\n- 農業物流の知識と経験\\n- 貨物管理と配送計画の作成\\n- 仕入れ...  \n",
       "3   必要なスキル:\\n\\n- 倉庫管理の基礎知識\\n- 在庫管理の基本的な手続き\\n- 品質管理...  \n",
       "4   必要なスキル:\\n\\n- 注文受付と確認の手続きに堪能な経験\\n- 在庫管理と注文処理の知識...  \n",
       "..                                                ...  \n",
       "95  必要なスキル:\\n\\n- 化学工業の知識\\n- 営業経験\\n- 顧客対応能力\\n- 商談力\\...  \n",
       "96  REQUIRED SKILLS FOR JUNIOR FACILITY MANAGEMENT...  \n",
       "97  シニア在庫管理者として募集されている場合、以下のスキルが必要です。\\n\\n- 在庫管理の高度...  \n",
       "98  必要なスキル:\\n\\n- 5年以上の家電設計エンジニアとした経験\\n- 高度な電子回路デザイ...  \n",
       "99  自動車製造業において、物流コーディネーターとして働くジュニアの必要スキルは以下の通りです。\\...  \n",
       "\n",
       "[100 rows x 5 columns]"
      ]
     },
     "execution_count": 5,
     "metadata": {},
     "output_type": "execute_result"
    }
   ],
   "source": [
    "d1"
   ]
  },
  {
   "cell_type": "code",
   "execution_count": 10,
   "id": "8b2cae1f",
   "metadata": {},
   "outputs": [
    {
     "data": {
      "text/plain": [
       "'シニア 安全管理者として求められるスキルは以下の通りです。\\n\\n- 長年の経験と知識を持った化学工業の安全管理に堪能すること\\n- 法令や規制に基づいた安全管理計画の策定および実施\\n- 労働安全法、環境対策法、火災Prevencion法などの法令に堪能すること\\n- 労働者の安全訓練の計画、実施、評価の能力\\n- 労働災害の事例研究、分析、対策策定の能力\\n- 安全環境の継続的改善に努めること\\n- 労働者の安全意識向上に努めること\\n- 安全関連事業者との協力関係の整備および維持の能力\\n- 労働者の安全意識調査の計画、実施、評価の能力\\n- 災害時のリーダーシップの発揮'"
      ]
     },
     "execution_count": 10,
     "metadata": {},
     "output_type": "execute_result"
    }
   ],
   "source": [
    "d1['skill_sets'][0]"
   ]
  },
  {
   "cell_type": "code",
   "execution_count": 8,
   "id": "b80c048d",
   "metadata": {},
   "outputs": [
    {
     "name": "stdout",
     "output_type": "stream",
     "text": [
      "シニア 安全管理者として求められるスキルは以下の通りです。\n",
      "\n",
      "- 長年の経験と知識を持った化学工業の安全管理に堪能すること\n",
      "- 法令や規制に基づいた安全管理計画の策定および実施\n",
      "- 労働安全法、環境対策法、火災Prevencion法などの法令に堪能すること\n",
      "- 労働者の安全訓練の計画、実施、評価の能力\n",
      "- 労働災害の事例研究、分析、対策策定の能力\n",
      "- 安全環境の継続的改善に努めること\n",
      "- 労働者の安全意識向上に努めること\n",
      "- 安全関連事業者との協力関係の整備および維持の能力\n",
      "- 労働者の安全意識調査の計画、実施、評価の能力\n",
      "- 災害時のリーダーシップの発揮\n"
     ]
    }
   ],
   "source": [
    "print(d1['skill_sets'][0])"
   ]
  },
  {
   "cell_type": "code",
   "execution_count": 9,
   "id": "98e578ef",
   "metadata": {},
   "outputs": [
    {
     "data": {
      "text/plain": [
       "str"
      ]
     },
     "execution_count": 9,
     "metadata": {},
     "output_type": "execute_result"
    }
   ],
   "source": [
    "type(d1['skill_sets'][0])"
   ]
  },
  {
   "cell_type": "code",
   "execution_count": 15,
   "id": "3fd28e5c",
   "metadata": {},
   "outputs": [
    {
     "name": "stdout",
     "output_type": "stream",
     "text": [
      "- 長年の経験と知識を持った化学工業の安全管理に堪能すること\n",
      "- 法令や規制に基づいた安全管理計画の策定および実施\n",
      "- 労働安全法、環境対策法、火災Prevencion法などの法令に堪能すること\n",
      "- 労働者の安全訓練の計画、実施、評価の能力\n",
      "- 労働災害の事例研究、分析、対策策定の能力\n",
      "- 安全環境の継続的改善に努めること\n",
      "- 労働者の安全意識向上に努めること\n",
      "- 安全関連事業者との協力関係の整備および維持の能力\n",
      "- 労働者の安全意識調査の計画、実施、評価の能力\n",
      "- 災害時のリーダーシップの発揮\n"
     ]
    }
   ],
   "source": [
    "s = d1['skill_sets'][0]\n",
    "# 分割して行ごとに処理\n",
    "lines = s.splitlines()\n",
    "# 条件を満たす行だけを残す\n",
    "filtered_lines = [line for line in lines if line.startswith('-')]\n",
    "# 再度結合して文字列に戻す\n",
    "result = '\\n'.join(filtered_lines)\n",
    "print(result)"
   ]
  },
  {
   "cell_type": "code",
   "execution_count": null,
   "id": "6cdda23a",
   "metadata": {},
   "outputs": [],
   "source": []
  },
  {
   "cell_type": "code",
   "execution_count": 19,
   "id": "0987bf96",
   "metadata": {},
   "outputs": [
    {
     "name": "stdout",
     "output_type": "stream",
     "text": [
      "(100, 5)\n",
      "(100, 5)\n",
      "----------------\n",
      "(100, 5)\n",
      "(200, 5)\n",
      "----------------\n",
      "(100, 5)\n",
      "(300, 5)\n",
      "----------------\n",
      "(100, 5)\n",
      "(400, 5)\n",
      "----------------\n",
      "(100, 5)\n",
      "(500, 5)\n",
      "----------------\n"
     ]
    }
   ],
   "source": [
    "list_dfs = ['jobdb_07-27-09_49_56.csv','jobdb_07-27-10_24_10.csv','jobdb_07-27-10_02_44.csv','jobdb_07-27-10_34_53.csv','jobdb_07-27-10_13_25.csv']\n",
    "\n",
    "df=pd.DataFrame()\n",
    "for d in list_dfs:\n",
    "    tmp = pd.read_csv('data/'+d)\n",
    "    print(tmp.shape)\n",
    "    df = pd.concat([df,tmp])\n",
    "    print(df.shape)\n",
    "    print('----------------')"
   ]
  },
  {
   "cell_type": "code",
   "execution_count": 21,
   "id": "faf3ee1f",
   "metadata": {},
   "outputs": [
    {
     "data": {
      "text/html": [
       "<div>\n",
       "<style scoped>\n",
       "    .dataframe tbody tr th:only-of-type {\n",
       "        vertical-align: middle;\n",
       "    }\n",
       "\n",
       "    .dataframe tbody tr th {\n",
       "        vertical-align: top;\n",
       "    }\n",
       "\n",
       "    .dataframe thead th {\n",
       "        text-align: right;\n",
       "    }\n",
       "</style>\n",
       "<table border=\"1\" class=\"dataframe\">\n",
       "  <thead>\n",
       "    <tr style=\"text-align: right;\">\n",
       "      <th></th>\n",
       "      <th>Unnamed: 0</th>\n",
       "      <th>industry</th>\n",
       "      <th>role</th>\n",
       "      <th>rank</th>\n",
       "      <th>skill_sets</th>\n",
       "    </tr>\n",
       "  </thead>\n",
       "  <tbody>\n",
       "    <tr>\n",
       "      <th>0</th>\n",
       "      <td>0</td>\n",
       "      <td>化学工業</td>\n",
       "      <td>安全管理者</td>\n",
       "      <td>シニア</td>\n",
       "      <td>シニア 安全管理者として求められるスキルは以下の通りです。\\n\\n- 長年の経験と知識を持っ...</td>\n",
       "    </tr>\n",
       "    <tr>\n",
       "      <th>1</th>\n",
       "      <td>1</td>\n",
       "      <td>物流・運輸業</td>\n",
       "      <td>物流コーディネーター</td>\n",
       "      <td>ミドル</td>\n",
       "      <td>必要なスキル:\\n\\n- 物流業界の知識と経験\\n- 日本語と英語の流暢なコミュニケーション...</td>\n",
       "    </tr>\n",
       "    <tr>\n",
       "      <th>2</th>\n",
       "      <td>2</td>\n",
       "      <td>農業</td>\n",
       "      <td>物流担当</td>\n",
       "      <td>ミドル</td>\n",
       "      <td>必要なスキル:\\n\\n- 農業物流の知識と経験\\n- 貨物管理と配送計画の作成\\n- 仕入れ...</td>\n",
       "    </tr>\n",
       "    <tr>\n",
       "      <th>3</th>\n",
       "      <td>3</td>\n",
       "      <td>物流・運輸業</td>\n",
       "      <td>倉庫管理</td>\n",
       "      <td>ジュニア</td>\n",
       "      <td>必要なスキル:\\n\\n- 倉庫管理の基礎知識\\n- 在庫管理の基本的な手続き\\n- 品質管理...</td>\n",
       "    </tr>\n",
       "    <tr>\n",
       "      <th>4</th>\n",
       "      <td>4</td>\n",
       "      <td>卸売業</td>\n",
       "      <td>受注管理</td>\n",
       "      <td>ジュニア</td>\n",
       "      <td>必要なスキル:\\n\\n- 注文受付と確認の手続きに堪能な経験\\n- 在庫管理と注文処理の知識...</td>\n",
       "    </tr>\n",
       "  </tbody>\n",
       "</table>\n",
       "</div>"
      ],
      "text/plain": [
       "   Unnamed: 0 industry        role  rank  \\\n",
       "0           0     化学工業       安全管理者   シニア   \n",
       "1           1   物流・運輸業  物流コーディネーター   ミドル   \n",
       "2           2       農業        物流担当   ミドル   \n",
       "3           3   物流・運輸業        倉庫管理  ジュニア   \n",
       "4           4      卸売業        受注管理  ジュニア   \n",
       "\n",
       "                                          skill_sets  \n",
       "0  シニア 安全管理者として求められるスキルは以下の通りです。\\n\\n- 長年の経験と知識を持っ...  \n",
       "1  必要なスキル:\\n\\n- 物流業界の知識と経験\\n- 日本語と英語の流暢なコミュニケーション...  \n",
       "2  必要なスキル:\\n\\n- 農業物流の知識と経験\\n- 貨物管理と配送計画の作成\\n- 仕入れ...  \n",
       "3  必要なスキル:\\n\\n- 倉庫管理の基礎知識\\n- 在庫管理の基本的な手続き\\n- 品質管理...  \n",
       "4  必要なスキル:\\n\\n- 注文受付と確認の手続きに堪能な経験\\n- 在庫管理と注文処理の知識...  "
      ]
     },
     "execution_count": 21,
     "metadata": {},
     "output_type": "execute_result"
    }
   ],
   "source": [
    "df.head()"
   ]
  },
  {
   "cell_type": "code",
   "execution_count": 37,
   "id": "9785b1ac",
   "metadata": {},
   "outputs": [
    {
     "data": {
      "text/plain": [
       "500"
      ]
     },
     "execution_count": 37,
     "metadata": {},
     "output_type": "execute_result"
    }
   ],
   "source": [
    "new_skill_sets = []\n",
    "for s in df['skill_sets']:\n",
    "    # 分割して行ごとに処理\n",
    "    lines = s.splitlines()\n",
    "    # 条件を満たす行だけを残す\n",
    "    filtered_lines = [line for line in lines if line.startswith('-')]\n",
    "    # 再度結合して文字列に戻す\n",
    "    result = '\\n'.join(filtered_lines)\n",
    "    #print(result)\n",
    "    new_skill_sets.append(result)\n",
    "len(new_skill_sets)"
   ]
  },
  {
   "cell_type": "code",
   "execution_count": 39,
   "id": "26c01abf",
   "metadata": {},
   "outputs": [
    {
     "name": "stdout",
     "output_type": "stream",
     "text": [
      "- 新卒歓迎\n",
      "- 営業経験は不要\n",
      "- 建設業関連知識\n",
      "- 顧客対応経験\n",
      "- リード生成能力\n",
      "- プレゼンテーション能力\n",
      "- マイクロソフトオフィススキル\n",
      "- 目標達成意識\n",
      "- チームワーク能力\n",
      "- � Dr. AI は、あなたのニーズに基づいて最適な回答を生成します。\n"
     ]
    }
   ],
   "source": [
    "print(new_skill_sets[180])"
   ]
  },
  {
   "cell_type": "code",
   "execution_count": 40,
   "id": "cd88966d",
   "metadata": {},
   "outputs": [],
   "source": [
    "df['skill_sets'] = new_skill_sets"
   ]
  },
  {
   "cell_type": "code",
   "execution_count": 49,
   "id": "4a8d11a2",
   "metadata": {},
   "outputs": [],
   "source": [
    "df['Unnamed: 0'] = [i+1 for i in range(df.shape[0])]\n",
    "df = df.rename(columns={'Unnamed: 0':'job_id'})"
   ]
  },
  {
   "cell_type": "code",
   "execution_count": 51,
   "id": "0225c530",
   "metadata": {},
   "outputs": [],
   "source": [
    "df.to_csv('data/job_database.csv', index=False)"
   ]
  },
  {
   "cell_type": "code",
   "execution_count": null,
   "id": "ca010325",
   "metadata": {},
   "outputs": [],
   "source": []
  }
 ],
 "metadata": {
  "kernelspec": {
   "display_name": "Python [conda env:llm] *",
   "language": "python",
   "name": "conda-env-llm-py"
  },
  "language_info": {
   "codemirror_mode": {
    "name": "ipython",
    "version": 3
   },
   "file_extension": ".py",
   "mimetype": "text/x-python",
   "name": "python",
   "nbconvert_exporter": "python",
   "pygments_lexer": "ipython3",
   "version": "3.10.12"
  }
 },
 "nbformat": 4,
 "nbformat_minor": 5
}
