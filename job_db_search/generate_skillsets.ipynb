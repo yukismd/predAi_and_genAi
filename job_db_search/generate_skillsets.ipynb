{
 "cells": [
  {
   "cell_type": "code",
   "execution_count": null,
   "id": "101a67be",
   "metadata": {},
   "outputs": [],
   "source": []
  },
  {
   "cell_type": "code",
   "execution_count": 36,
   "id": "91c7bace",
   "metadata": {},
   "outputs": [],
   "source": [
    "import json\n",
    "import datetime\n",
    "\n",
    "import pandas as pd\n",
    "import numpy as np\n",
    "from tqdm import tqdm\n",
    "\n",
    "from h2ogpte import H2OGPTE"
   ]
  },
  {
   "cell_type": "code",
   "execution_count": 1,
   "id": "0089bdaa",
   "metadata": {},
   "outputs": [
    {
     "name": "stdout",
     "output_type": "stream",
     "text": [
      "jd_db.csv\r\n"
     ]
    }
   ],
   "source": [
    "!ls data"
   ]
  },
  {
   "cell_type": "code",
   "execution_count": 4,
   "id": "9cc538e1",
   "metadata": {},
   "outputs": [
    {
     "data": {
      "text/html": [
       "<div>\n",
       "<style scoped>\n",
       "    .dataframe tbody tr th:only-of-type {\n",
       "        vertical-align: middle;\n",
       "    }\n",
       "\n",
       "    .dataframe tbody tr th {\n",
       "        vertical-align: top;\n",
       "    }\n",
       "\n",
       "    .dataframe thead th {\n",
       "        text-align: right;\n",
       "    }\n",
       "</style>\n",
       "<table border=\"1\" class=\"dataframe\">\n",
       "  <thead>\n",
       "    <tr style=\"text-align: right;\">\n",
       "      <th></th>\n",
       "      <th>業種</th>\n",
       "      <th>職種</th>\n",
       "    </tr>\n",
       "  </thead>\n",
       "  <tbody>\n",
       "    <tr>\n",
       "      <th>0</th>\n",
       "      <td>自動車製造業</td>\n",
       "      <td>自動車設計エンジニア</td>\n",
       "    </tr>\n",
       "    <tr>\n",
       "      <th>1</th>\n",
       "      <td>自動車製造業</td>\n",
       "      <td>生産管理</td>\n",
       "    </tr>\n",
       "    <tr>\n",
       "      <th>2</th>\n",
       "      <td>自動車製造業</td>\n",
       "      <td>品質管理</td>\n",
       "    </tr>\n",
       "    <tr>\n",
       "      <th>3</th>\n",
       "      <td>自動車製造業</td>\n",
       "      <td>製造オペレーター</td>\n",
       "    </tr>\n",
       "    <tr>\n",
       "      <th>4</th>\n",
       "      <td>自動車製造業</td>\n",
       "      <td>購買担当</td>\n",
       "    </tr>\n",
       "    <tr>\n",
       "      <th>...</th>\n",
       "      <td>...</td>\n",
       "      <td>...</td>\n",
       "    </tr>\n",
       "    <tr>\n",
       "      <th>295</th>\n",
       "      <td>宇宙開発業</td>\n",
       "      <td>マーケティング担当</td>\n",
       "    </tr>\n",
       "    <tr>\n",
       "      <th>296</th>\n",
       "      <td>宇宙開発業</td>\n",
       "      <td>購買担当</td>\n",
       "    </tr>\n",
       "    <tr>\n",
       "      <th>297</th>\n",
       "      <td>宇宙開発業</td>\n",
       "      <td>物流担当</td>\n",
       "    </tr>\n",
       "    <tr>\n",
       "      <th>298</th>\n",
       "      <td>宇宙開発業</td>\n",
       "      <td>技術サポート</td>\n",
       "    </tr>\n",
       "    <tr>\n",
       "      <th>299</th>\n",
       "      <td>宇宙開発業</td>\n",
       "      <td>安全管理者</td>\n",
       "    </tr>\n",
       "  </tbody>\n",
       "</table>\n",
       "<p>300 rows × 2 columns</p>\n",
       "</div>"
      ],
      "text/plain": [
       "         業種          職種\n",
       "0    自動車製造業  自動車設計エンジニア\n",
       "1    自動車製造業        生産管理\n",
       "2    自動車製造業        品質管理\n",
       "3    自動車製造業    製造オペレーター\n",
       "4    自動車製造業        購買担当\n",
       "..      ...         ...\n",
       "295   宇宙開発業   マーケティング担当\n",
       "296   宇宙開発業        購買担当\n",
       "297   宇宙開発業        物流担当\n",
       "298   宇宙開発業      技術サポート\n",
       "299   宇宙開発業       安全管理者\n",
       "\n",
       "[300 rows x 2 columns]"
      ]
     },
     "execution_count": 4,
     "metadata": {},
     "output_type": "execute_result"
    }
   ],
   "source": [
    "df = pd.read_csv('data/jd_db.csv', encoding='sjis')\n",
    "df"
   ]
  },
  {
   "cell_type": "code",
   "execution_count": 7,
   "id": "49156129",
   "metadata": {},
   "outputs": [
    {
     "data": {
      "text/html": [
       "<div>\n",
       "<style scoped>\n",
       "    .dataframe tbody tr th:only-of-type {\n",
       "        vertical-align: middle;\n",
       "    }\n",
       "\n",
       "    .dataframe tbody tr th {\n",
       "        vertical-align: top;\n",
       "    }\n",
       "\n",
       "    .dataframe thead th {\n",
       "        text-align: right;\n",
       "    }\n",
       "</style>\n",
       "<table border=\"1\" class=\"dataframe\">\n",
       "  <thead>\n",
       "    <tr style=\"text-align: right;\">\n",
       "      <th></th>\n",
       "      <th>業種</th>\n",
       "      <th>職種</th>\n",
       "    </tr>\n",
       "  </thead>\n",
       "  <tbody>\n",
       "    <tr>\n",
       "      <th>158</th>\n",
       "      <td>エネルギー業</td>\n",
       "      <td>財務担当</td>\n",
       "    </tr>\n",
       "  </tbody>\n",
       "</table>\n",
       "</div>"
      ],
      "text/plain": [
       "         業種    職種\n",
       "158  エネルギー業  財務担当"
      ]
     },
     "execution_count": 7,
     "metadata": {},
     "output_type": "execute_result"
    }
   ],
   "source": [
    "df.sample()"
   ]
  },
  {
   "cell_type": "code",
   "execution_count": null,
   "id": "fedf86f6",
   "metadata": {},
   "outputs": [],
   "source": []
  },
  {
   "cell_type": "code",
   "execution_count": 10,
   "id": "d24f767b",
   "metadata": {},
   "outputs": [
    {
     "name": "stdout",
     "output_type": "stream",
     "text": [
      "Warning: Server version 1.5.8 doesn't match client version 1.5.5: unexpected errors may occur.\n",
      "Please install the correct version of H2OGPTE with `pip install h2ogpte==1.5.8`.\n",
      "You can enable strict version checking by passing strict_version_check=True.\n"
     ]
    },
    {
     "data": {
      "text/plain": [
       "<h2ogpte.h2ogpte.H2OGPTE at 0x11f637700>"
      ]
     },
     "execution_count": 10,
     "metadata": {},
     "output_type": "execute_result"
    }
   ],
   "source": [
    "with open('../_secret') as f:\n",
    "    key = json.load(f)\n",
    "H2OGPTE_KEY = key['test-collection-0726']\n",
    "\n",
    "client = H2OGPTE(\n",
    "    address='https://h2ogpte.internal.dedicated.h2o.ai/',\n",
    "    api_key=H2OGPTE_KEY,\n",
    ")\n",
    "\n",
    "client"
   ]
  },
  {
   "cell_type": "code",
   "execution_count": 12,
   "id": "93d3c0dd",
   "metadata": {},
   "outputs": [
    {
     "data": {
      "text/plain": [
       "['mistralai/Mixtral-8x7B-Instruct-v0.1',\n",
       " 'mistralai/Mistral-7B-Instruct-v0.3',\n",
       " 'meta-llama/Meta-Llama-3.1-8B-Instruct',\n",
       " 'meta-llama/Meta-Llama-3.1-70B-Instruct',\n",
       " 'OpenGVLab/InternVL-Chat-V1-5',\n",
       " 'h2oai/h2o-danube3-4b-chat',\n",
       " 'mistral-medium-latest',\n",
       " 'claude-3-5-sonnet-20240620',\n",
       " 'claude-3-haiku-20240307',\n",
       " 'gpt-35-turbo-1106',\n",
       " 'gpt-4-1106-preview',\n",
       " 'gpt-4o',\n",
       " 'gemini-1.5-pro-latest']"
      ]
     },
     "execution_count": 12,
     "metadata": {},
     "output_type": "execute_result"
    }
   ],
   "source": [
    "client.get_llm_names()"
   ]
  },
  {
   "cell_type": "code",
   "execution_count": 27,
   "id": "57d8c2fc",
   "metadata": {},
   "outputs": [
    {
     "data": {
      "text/plain": [
       "'b57b7694-4dc9-4763-88b6-efc3e7a90b84'"
      ]
     },
     "execution_count": 27,
     "metadata": {},
     "output_type": "execute_result"
    }
   ],
   "source": [
    "chat_session_id = client.create_chat_session_on_default_collection()\n",
    "chat_session_id"
   ]
  },
  {
   "cell_type": "code",
   "execution_count": 57,
   "id": "d7d031ea",
   "metadata": {},
   "outputs": [
    {
     "name": "stdout",
     "output_type": "stream",
     "text": [
      "\n",
      "以下の\"募集情報\"にの内容に従って、その職務に必要なスキルを箇条書きして下さい。\n",
      "なお、出力は\"注意事項\"に従って下さい。\n",
      "\n",
      "# 注意事項\n",
      "- ランクですが、ジュニアだとスキル要件が簡単なもの、シニアだと高度なスキル要件が必要で、ミドルはその中間です。\n",
      "- 出力は箇条描きのみです。箇条書きの記号は\"-\"を使います。\n",
      "- 出力する項目数は5~10程度です。\n",
      "- 出力は100~200字程度です。\n",
      "\n",
      "# 募集情報\n",
      "業種: 宇宙開発業\n",
      "職種: ミッションプランナー\n",
      "ランク: シニア\n",
      "\n",
      "---------------------------\n",
      "必要なスキル:\n",
      "\n",
      "- 5年以上の宇宙開発業務 experience\n",
      "- ミッション計画と実行の経験\n",
      "- 宇宙船や衛星の設計・開発に携わる経験\n",
      "- リスク管理と評価の経験\n",
      "- 複雑なシステムの整理と調整能力\n",
      "- 英語の流暢な会話能力\n",
      "- チームでの協調と指導能力\n",
      "- 政策や法規に基づいた計画立案能力\n",
      "- 事業計画の策定と評価能力\n",
      "- 安全性と信頼性の高いミッションプランの作成能力\n"
     ]
    }
   ],
   "source": [
    "LlmModel = 'mistralai/Mixtral-8x7B-Instruct-v0.1'\n",
    "\n",
    "SysPrompt = '''\n",
    "あなたは優秀なジョブディスクリプション作成AIです。（回答は必ず日本語で実施します。）\n",
    "'''\n",
    "\n",
    "job = df.sample()\n",
    "job_industry = job['業種']\n",
    "job_role = job['職種']\n",
    "job_rank = np.random.choice(['ジュニア', 'ミドル', 'シニア'])\n",
    "\n",
    "job = df.sample()\n",
    "job_industry = job['業種'].values[0]\n",
    "job_role = job['職種'].values[0]\n",
    "job_rank = np.random.choice(['ジュニア', 'ミドル', 'シニア'])\n",
    "\n",
    "Message = '''\n",
    "以下の\"募集情報\"にの内容に従って、その職務に必要なスキルを箇条書きして下さい。\n",
    "なお、出力は\"注意事項\"に従って下さい。\n",
    "\n",
    "# 注意事項\n",
    "- ランクですが、ジュニアだとスキル要件が簡単なもの、シニアだと高度なスキル要件が必要で、ミドルはその中間です。\n",
    "- 出力は箇条描きのみです。箇条書きの記号は\"-\"を使います。\n",
    "- 出力する項目数は5~10程度です。\n",
    "- 出力は100~200字程度です。\n",
    "\n",
    "# 募集情報\n",
    "業種: {}\n",
    "職種: {}\n",
    "ランク: {}\n",
    "'''.format(job_industry, job_role, job_rank)\n",
    "\n",
    "print(Message)\n",
    "print('---------------------------')\n",
    "\n",
    "with client.connect(chat_session_id) as session:\n",
    "    reply = session.query(\n",
    "        message = Message,\n",
    "        system_prompt=SysPrompt,\n",
    "        llm=LlmModel,\n",
    "        rag_config={\"rag_type\": \"llm_only\",},\n",
    "    )\n",
    "    print(reply.content)"
   ]
  },
  {
   "cell_type": "code",
   "execution_count": null,
   "id": "9924159c",
   "metadata": {},
   "outputs": [],
   "source": []
  },
  {
   "cell_type": "code",
   "execution_count": 63,
   "id": "1df37254",
   "metadata": {},
   "outputs": [
    {
     "name": "stderr",
     "output_type": "stream",
     "text": [
      "100%|██████████| 100/100 [09:30<00:00,  5.71s/it]\n"
     ]
    }
   ],
   "source": [
    "LlmModel = 'mistralai/Mixtral-8x7B-Instruct-v0.1'\n",
    "\n",
    "SysPrompt = '''\n",
    "あなたは優秀なジョブディスクリプション作成AIです。（回答は必ず日本語で実施します。）\n",
    "'''\n",
    "\n",
    "list_job_industry = []\n",
    "list_job_role = []\n",
    "list_job_rank = []\n",
    "list_skill_sets = []\n",
    "\n",
    "for i in tqdm(range(100)):\n",
    "    job = df.sample()\n",
    "    job_industry = job['業種']\n",
    "    job_role = job['職種']\n",
    "    job_rank = np.random.choice(['ジュニア', 'ミドル', 'シニア'])\n",
    "\n",
    "    Message = '''\n",
    "    以下の\"募集情報\"にの内容に従って、その職務に必要なスキルを箇条書きして下さい。\n",
    "    なお、出力は\"注意事項\"に従って下さい。\n",
    "\n",
    "    # 注意事項\n",
    "    - ランクですが、ジュニアだとスキル要件が簡単なもの、シニアだと高度なスキル要件が必要で、ミドルはその中間です。\n",
    "    - 出力は箇条描きのみです。箇条書きの記号は\"-\"を使います。\n",
    "    - 出力する項目数は5~10程度です。\n",
    "    - 出力は100~200字程度です。\n",
    "\n",
    "    # 募集情報\n",
    "    業種: {}\n",
    "    職種: {}\n",
    "    ランク: {}\n",
    "    '''.format(job_industry, job_role, job_rank)\n",
    "\n",
    "    with client.connect(chat_session_id) as session:\n",
    "        reply = session.query(\n",
    "            message = Message,\n",
    "            system_prompt=SysPrompt,\n",
    "            llm=LlmModel,\n",
    "            rag_config={\"rag_type\": \"llm_only\",},\n",
    "        )\n",
    "    \n",
    "    list_job_industry.append(job_industry)\n",
    "    list_job_role.append(job_role)\n",
    "    list_job_rank.append(job_rank)\n",
    "    list_skill_sets.append(reply.content)\n",
    "\n",
    "\n",
    "df_res =pd.DataFrame({\n",
    "    'industry': list_job_industry,\n",
    "    'role':list_job_role,\n",
    "    'rank':list_job_rank,\n",
    "    'skill_sets':list_skill_sets\n",
    "})\n",
    "now = datetime.datetime.now().strftime(\"%m-%d-%H_%M_%S\")\n",
    "fname = 'data/'+'jobdb_'+now+'.csv'\n",
    "df_res.to_csv(fname)"
   ]
  },
  {
   "cell_type": "code",
   "execution_count": null,
   "id": "3d614c05",
   "metadata": {},
   "outputs": [],
   "source": []
  },
  {
   "cell_type": "code",
   "execution_count": null,
   "id": "cb5d62c0",
   "metadata": {},
   "outputs": [],
   "source": []
  }
 ],
 "metadata": {
  "kernelspec": {
   "display_name": "Python [conda env:llm] *",
   "language": "python",
   "name": "conda-env-llm-py"
  },
  "language_info": {
   "codemirror_mode": {
    "name": "ipython",
    "version": 3
   },
   "file_extension": ".py",
   "mimetype": "text/x-python",
   "name": "python",
   "nbconvert_exporter": "python",
   "pygments_lexer": "ipython3",
   "version": "3.10.12"
  }
 },
 "nbformat": 4,
 "nbformat_minor": 5
}
