{
 "cells": [
  {
   "cell_type": "markdown",
   "id": "bbd49bd6",
   "metadata": {},
   "source": [
    "# ジョブマッチング 予測&生成AI デモ"
   ]
  },
  {
   "cell_type": "code",
   "execution_count": 1,
   "id": "81c6a03a",
   "metadata": {},
   "outputs": [],
   "source": [
    "import requests\n",
    "import json\n",
    "\n",
    "import pandas as pd\n",
    "import numpy as np\n",
    "\n",
    "from h2ogpte import H2OGPTE"
   ]
  },
  {
   "cell_type": "code",
   "execution_count": 2,
   "id": "09c48cd2",
   "metadata": {},
   "outputs": [],
   "source": [
    "MLOPS_ENDPOINT = 'https://model.internal.dedicated.h2o.ai/d4e5a4ac-9ca0-4e60-af0e-0b175c1997a8/model/score'\n",
    "\n",
    "H2OGPTE_URL = 'https://h2ogpte.internal.dedicated.h2o.ai/'\n",
    "\n",
    "with open('../_secret') as f:\n",
    "    key = json.load(f)\n",
    "H2OGPTE_KEY = key['global_internal-dedicated-0726']"
   ]
  },
  {
   "cell_type": "code",
   "execution_count": 40,
   "id": "62b39d64",
   "metadata": {},
   "outputs": [
    {
     "name": "stdout",
     "output_type": "stream",
     "text": [
      "jd_db.csv                  resume_0106.docx\r\n",
      "job_database.csv           resume_1303.docx\r\n",
      "job_database_wCategory.csv resume_TaroShonan.docx\r\n",
      "job_embeddings.csv\r\n"
     ]
    }
   ],
   "source": [
    "!ls data"
   ]
  },
  {
   "cell_type": "markdown",
   "id": "3f23394d",
   "metadata": {},
   "source": [
    "## データの抽出 - 生成AI\n",
    "- 職務経歴書から、書かれているスキル（専門技術、マネジメント、経験等）を抽出する"
   ]
  },
  {
   "cell_type": "markdown",
   "id": "5e69f2a0",
   "metadata": {},
   "source": [
    "参考: https://github.com/yukismd/H2O_LLM/blob/main/h2oGPTe/Global-API_RAG.ipynb"
   ]
  },
  {
   "cell_type": "code",
   "execution_count": 4,
   "id": "843b900c",
   "metadata": {},
   "outputs": [
    {
     "name": "stdout",
     "output_type": "stream",
     "text": [
      "Warning: Server version 1.5.8 doesn't match client version 1.5.5: unexpected errors may occur.\n",
      "Please install the correct version of H2OGPTE with `pip install h2ogpte==1.5.8`.\n",
      "You can enable strict version checking by passing strict_version_check=True.\n"
     ]
    },
    {
     "data": {
      "text/plain": [
       "<h2ogpte.h2ogpte.H2OGPTE at 0x11dfa1f90>"
      ]
     },
     "execution_count": 4,
     "metadata": {},
     "output_type": "execute_result"
    }
   ],
   "source": [
    "client = H2OGPTE(\n",
    "    address='https://h2ogpte.internal.dedicated.h2o.ai',\n",
    "    api_key=key['global_internal-dedicated-0726'],\n",
    ")\n",
    "\n",
    "client"
   ]
  },
  {
   "cell_type": "code",
   "execution_count": 5,
   "id": "5ac3e37d",
   "metadata": {},
   "outputs": [
    {
     "data": {
      "text/plain": [
       "['BAAI/bge-large-en-v1.5', 'BAAI/bge-m3', 'hkunlp/instructor-large', 'off']"
      ]
     },
     "execution_count": 5,
     "metadata": {},
     "output_type": "execute_result"
    }
   ],
   "source": [
    "client.list_embedding_models()"
   ]
  },
  {
   "cell_type": "code",
   "execution_count": 23,
   "id": "c406409e",
   "metadata": {},
   "outputs": [
    {
     "data": {
      "text/plain": [
       "'264b76f7-d460-48a1-be75-c4f05c052060'"
      ]
     },
     "execution_count": 23,
     "metadata": {},
     "output_type": "execute_result"
    }
   ],
   "source": [
    "# Create a new collection\n",
    "collection_id = client.create_collection(\n",
    "    name='skill-extractor',\n",
    "    description='職務経歴書に対するRAG',\n",
    "    embedding_model='BAAI/bge-m3',\n",
    "    prompt_template_id='16095e26-6876-410f-a934-3c0651a21e4c'    # h2oGPTe UI（チャットの設定）から取得\n",
    ")\n",
    "collection_id"
   ]
  },
  {
   "cell_type": "markdown",
   "id": "8630ddda",
   "metadata": {},
   "source": [
    "**検索を実施する職務経歴書**: [data/resume_0106.docx](data/resume_0106.docx)"
   ]
  },
  {
   "cell_type": "code",
   "execution_count": 24,
   "id": "81a344b4",
   "metadata": {},
   "outputs": [
    {
     "data": {
      "text/plain": [
       "'4436cdaf-a81a-4c11-9776-35cdd5cc0317'"
      ]
     },
     "execution_count": 24,
     "metadata": {},
     "output_type": "execute_result"
    }
   ],
   "source": [
    "# Upload documents\n",
    "with open('data/resume_0106.docx', 'rb') as f:\n",
    "    upload_file = client.upload('resume.docx', f)\n",
    "\n",
    "upload_file"
   ]
  },
  {
   "cell_type": "code",
   "execution_count": 25,
   "id": "5e8b87df",
   "metadata": {},
   "outputs": [
    {
     "data": {
      "text/plain": [
       "Job(id='4ba2cc92-11cc-49b6-9a4f-a25679ba378c', name='Adding documents', passed=1.0, failed=0.0, progress=1.0, completed=True, canceled=False, date=datetime.datetime(2024, 7, 29, 2, 17, 4, tzinfo=TzInfo(UTC)), kind=<JobKind.IngestUploadsJob: 'IngestUploadsJob'>, statuses=[JobStatus(id='c4184dc7ee4847c0b02f20562af230aa', status='Collecting done.'), JobStatus(id='8e32806b56614437a80c4004ffc916b5', status='Indexing done.')], errors=[], last_update_date=datetime.datetime(2024, 7, 29, 2, 17, 7, tzinfo=TzInfo(UTC)), duration='3s', duration_seconds=3.0)"
      ]
     },
     "execution_count": 25,
     "metadata": {},
     "output_type": "execute_result"
    }
   ],
   "source": [
    "# Ingest documents (Creates previews, chunks and embeddings)\n",
    "client.ingest_uploads(collection_id, [upload_file])"
   ]
  },
  {
   "cell_type": "code",
   "execution_count": 26,
   "id": "88e80d71",
   "metadata": {},
   "outputs": [
    {
     "data": {
      "text/plain": [
       "[DocumentInfo(id='bbd1287d-a233-4929-a138-37232acfb8b7', username='yuki.shimada@h2o.ai', name='resume_TaroShonan.pdf', type='PDF', size=63547, page_count=2, pii_settings=None, connector='Upload', uri=None, original_type='Word', meta_data_dict={}, status='completed', updated_at=datetime.datetime(2024, 7, 29, 2, 17, 7, 750069, tzinfo=TzInfo(UTC)))]"
      ]
     },
     "execution_count": 26,
     "metadata": {},
     "output_type": "execute_result"
    }
   ],
   "source": [
    "# Collection内のDocument\n",
    "client.list_documents_in_collection(collection_id, offset=0, limit=999)"
   ]
  },
  {
   "cell_type": "code",
   "execution_count": 27,
   "id": "bb1670c2",
   "metadata": {},
   "outputs": [
    {
     "data": {
      "text/plain": [
       "['mistralai/Mixtral-8x7B-Instruct-v0.1',\n",
       " 'mistralai/Mistral-7B-Instruct-v0.3',\n",
       " 'meta-llama/Meta-Llama-3.1-8B-Instruct',\n",
       " 'meta-llama/Meta-Llama-3.1-70B-Instruct',\n",
       " 'OpenGVLab/InternVL-Chat-V1-5',\n",
       " 'h2oai/h2o-danube3-4b-chat',\n",
       " 'mistral-medium-latest',\n",
       " 'claude-3-5-sonnet-20240620',\n",
       " 'claude-3-haiku-20240307',\n",
       " 'gpt-35-turbo-1106',\n",
       " 'gpt-4-1106-preview',\n",
       " 'gpt-4o',\n",
       " 'gemini-1.5-pro-latest']"
      ]
     },
     "execution_count": 27,
     "metadata": {},
     "output_type": "execute_result"
    }
   ],
   "source": [
    "client.get_llm_names()"
   ]
  },
  {
   "cell_type": "code",
   "execution_count": 28,
   "id": "c59598a0",
   "metadata": {},
   "outputs": [
    {
     "data": {
      "text/plain": [
       "'85130503-1ce6-4d8c-8b47-221fdb8882aa'"
      ]
     },
     "execution_count": 28,
     "metadata": {},
     "output_type": "execute_result"
    }
   ],
   "source": [
    "# Create a chat session\n",
    "chat_session_id = client.create_chat_session(collection_id)\n",
    "chat_session_id"
   ]
  },
  {
   "cell_type": "code",
   "execution_count": 29,
   "id": "07fddf10",
   "metadata": {},
   "outputs": [
    {
     "name": "stdout",
     "output_type": "stream",
     "text": [
      "{'skills': ['自動車販売', '自動車整備', '自動車保険の代理営業', '新車販売', '車検・点検', '自動車登録の書類作成', '指導員の業務指導や販売方法のアドバイス', '商談同席', 'Excel関数の使用やデータ表の作成', 'PowerPointの使用', '報告書、見積書、礼状などの文書作成', '会議資料、提案資料の作成', '普通自動車第一種運転免許', '損害保険募集人一般試験', 'TOEIC Listening & Reading Test 650点', '顧客とのコミュニケーション能力', 'Wordの使用']}\n"
     ]
    }
   ],
   "source": [
    "Model = 'mistralai/Mixtral-8x7B-Instruct-v0.1'\n",
    "\n",
    "SysPrompt = '''\n",
    "あなたは履歴書や職務経歴書から情報を取得するAIです。（回答は必ず日本語で実施します。）\n",
    "'''\n",
    "\n",
    "Message = '''\n",
    "書かれているスキル（専門技術、マネジメント、経験等）を箇条描きで取り出して下さい。\n",
    "'''\n",
    "\n",
    "\n",
    "with client.connect(chat_session_id) as session:\n",
    "    reply = session.query(\n",
    "        message = Message,\n",
    "        llm = Model,\n",
    "        rag_config = {\"rag_type\": \"rag\"},   # (Normal) RAG \n",
    "        llm_args = dict(\n",
    "            response_format = 'json_object',   # 出力はjsonを指定\n",
    "            #guided_json = {'properties': {'skill_sets': {'type': 'string'}},}\n",
    "        ),\n",
    "    )\n",
    "    skills = json.loads(reply.content)\n",
    "\n",
    "print(skills)"
   ]
  },
  {
   "cell_type": "code",
   "execution_count": 30,
   "id": "a44335fa",
   "metadata": {},
   "outputs": [
    {
     "data": {
      "text/plain": [
       "['自動車販売',\n",
       " '自動車整備',\n",
       " '自動車保険の代理営業',\n",
       " '新車販売',\n",
       " '車検・点検',\n",
       " '自動車登録の書類作成',\n",
       " '指導員の業務指導や販売方法のアドバイス',\n",
       " '商談同席',\n",
       " 'Excel関数の使用やデータ表の作成',\n",
       " 'PowerPointの使用',\n",
       " '報告書、見積書、礼状などの文書作成',\n",
       " '会議資料、提案資料の作成',\n",
       " '普通自動車第一種運転免許',\n",
       " '損害保険募集人一般試験',\n",
       " 'TOEIC Listening & Reading Test 650点',\n",
       " '顧客とのコミュニケーション能力',\n",
       " 'Wordの使用']"
      ]
     },
     "execution_count": 30,
     "metadata": {},
     "output_type": "execute_result"
    }
   ],
   "source": [
    "skills = [i for i in skills.values()][0]\n",
    "skills"
   ]
  },
  {
   "cell_type": "code",
   "execution_count": 31,
   "id": "c7e426bd",
   "metadata": {},
   "outputs": [
    {
     "data": {
      "text/plain": [
       "Job(id='26b15759-b210-457a-9d69-5e120720344d', name='Deleting collections', passed=1.0, failed=0.0, progress=1.0, completed=True, canceled=False, date=datetime.datetime(2024, 7, 29, 2, 17, 28, tzinfo=TzInfo(UTC)), kind=<JobKind.DeleteCollectionsJob: 'DeleteCollectionsJob'>, statuses=[JobStatus(id='c4184dc7ee4847c0b02f20562af230aa', status='Deleting indexes...')], errors=[], last_update_date=datetime.datetime(2024, 7, 29, 2, 17, 29, tzinfo=TzInfo(UTC)), duration='1s', duration_seconds=1.0)"
      ]
     },
     "execution_count": 31,
     "metadata": {},
     "output_type": "execute_result"
    }
   ],
   "source": [
    "# Collectionの削除\n",
    "client.delete_collections([collection_id])"
   ]
  },
  {
   "cell_type": "code",
   "execution_count": null,
   "id": "91b9a28b",
   "metadata": {},
   "outputs": [],
   "source": []
  },
  {
   "cell_type": "markdown",
   "id": "1e70ac7d",
   "metadata": {},
   "source": [
    "## 類似度検索 - 予測AI\n",
    "- 抽出したスキル一覧とマッチする仕事をリストアップする"
   ]
  },
  {
   "cell_type": "markdown",
   "id": "1e7ce543",
   "metadata": {},
   "source": [
    "参考: https://github.com/yukismd/H2O_AI_Cloud/blob/main/sample_request/nlp_model/MLOps_HT_MetricLearning.ipynb"
   ]
  },
  {
   "cell_type": "markdown",
   "id": "bc530e93",
   "metadata": {},
   "source": [
    "### スコアリング"
   ]
  },
  {
   "cell_type": "code",
   "execution_count": 32,
   "id": "2469a0f2",
   "metadata": {},
   "outputs": [
    {
     "data": {
      "text/plain": [
       "{'fields': ['input'],\n",
       " 'rows': [['自動車販売, 自動車整備, 自動車保険の代理営業, 新車販売, 車検・点検, 自動車登録の書類作成, 指導員の業務指導や販売方法のアドバイス, 商談同席, Excel関数の使用やデータ表の作成, PowerPointの使用, 報告書、見積書、礼状などの文書作成, 会議資料、提案資料の作成, 普通自動車第一種運転免許, 損害保険募集人一般試験, TOEIC Listening & Reading Test 650点, 顧客とのコミュニケーション能力, Wordの使用']]}"
      ]
     },
     "execution_count": 32,
     "metadata": {},
     "output_type": "execute_result"
    }
   ],
   "source": [
    "# リクエスト用データ\n",
    "json_data = dict(fields=[\"input\"], rows=[[\", \".join(skills)]])\n",
    "json_data"
   ]
  },
  {
   "cell_type": "code",
   "execution_count": 33,
   "id": "34c56aa2",
   "metadata": {},
   "outputs": [
    {
     "data": {
      "text/plain": [
       "<Response [200]>"
      ]
     },
     "execution_count": 33,
     "metadata": {},
     "output_type": "execute_result"
    }
   ],
   "source": [
    "# MLOpsへのリクエスト\n",
    "response = requests.post(url=MLOPS_ENDPOINT, \n",
    "                         headers={'content-type': 'application/json'}, \n",
    "                         data=json.dumps(json_data))\n",
    "response"
   ]
  },
  {
   "cell_type": "code",
   "execution_count": 34,
   "id": "860be533",
   "metadata": {
    "scrolled": false
   },
   "outputs": [
    {
     "data": {
      "text/plain": [
       "[-0.14998503029346466,\n",
       " -0.0906902402639389,\n",
       " 0.31655681133270264,\n",
       " 0.35003647208213806,\n",
       " -0.40125352144241333,\n",
       " 0.40502312779426575,\n",
       " -0.09217745810747147,\n",
       " 0.21565495431423187,\n",
       " -0.04981619492173195,\n",
       " -0.15057465434074402]"
      ]
     },
     "execution_count": 34,
     "metadata": {},
     "output_type": "execute_result"
    }
   ],
   "source": [
    "# 取得したEmbedding（256）次元\n",
    "applicant_embedding = json.loads(response.json()['score'][0][0])['embeddings'][0]\n",
    "len(applicant_embedding)\n",
    "applicant_embedding[:10]"
   ]
  },
  {
   "cell_type": "markdown",
   "id": "a3e8d60c",
   "metadata": {},
   "source": [
    "### 検索"
   ]
  },
  {
   "cell_type": "code",
   "execution_count": 41,
   "id": "a02b23cc",
   "metadata": {},
   "outputs": [
    {
     "data": {
      "text/html": [
       "<div>\n",
       "<style scoped>\n",
       "    .dataframe tbody tr th:only-of-type {\n",
       "        vertical-align: middle;\n",
       "    }\n",
       "\n",
       "    .dataframe tbody tr th {\n",
       "        vertical-align: top;\n",
       "    }\n",
       "\n",
       "    .dataframe thead th {\n",
       "        text-align: right;\n",
       "    }\n",
       "</style>\n",
       "<table border=\"1\" class=\"dataframe\">\n",
       "  <thead>\n",
       "    <tr style=\"text-align: right;\">\n",
       "      <th></th>\n",
       "      <th>job_id</th>\n",
       "      <th>industry</th>\n",
       "      <th>role</th>\n",
       "      <th>rank</th>\n",
       "      <th>skill_sets</th>\n",
       "    </tr>\n",
       "  </thead>\n",
       "  <tbody>\n",
       "    <tr>\n",
       "      <th>0</th>\n",
       "      <td>1</td>\n",
       "      <td>化学工業</td>\n",
       "      <td>安全管理者</td>\n",
       "      <td>シニア</td>\n",
       "      <td>- 長年の経験と知識を持った化学工業の安全管理に堪能すること\\n- 法令や規制に基づいた安全...</td>\n",
       "    </tr>\n",
       "    <tr>\n",
       "      <th>1</th>\n",
       "      <td>2</td>\n",
       "      <td>物流・運輸業</td>\n",
       "      <td>物流コーディネーター</td>\n",
       "      <td>ミドル</td>\n",
       "      <td>- 物流業界の知識と経験\\n- 日本語と英語の流暢なコミュニケーション能力\\n- 計画と調整...</td>\n",
       "    </tr>\n",
       "    <tr>\n",
       "      <th>2</th>\n",
       "      <td>3</td>\n",
       "      <td>農業</td>\n",
       "      <td>物流担当</td>\n",
       "      <td>ミドル</td>\n",
       "      <td>- 農業物流の知識と経験\\n- 貨物管理と配送計画の作成\\n- 仕入れと倉庫管理のスキル\\n...</td>\n",
       "    </tr>\n",
       "    <tr>\n",
       "      <th>3</th>\n",
       "      <td>4</td>\n",
       "      <td>物流・運輸業</td>\n",
       "      <td>倉庫管理</td>\n",
       "      <td>ジュニア</td>\n",
       "      <td>- 倉庫管理の基礎知識\\n- 在庫管理の基本的な手続き\\n- 品質管理の知識\\n- 安全管理...</td>\n",
       "    </tr>\n",
       "    <tr>\n",
       "      <th>4</th>\n",
       "      <td>5</td>\n",
       "      <td>卸売業</td>\n",
       "      <td>受注管理</td>\n",
       "      <td>ジュニア</td>\n",
       "      <td>- 注文受付と確認の手続きに堪能な経験\\n- 在庫管理と注文処理の知識\\n- 商品情報の入力...</td>\n",
       "    </tr>\n",
       "    <tr>\n",
       "      <th>...</th>\n",
       "      <td>...</td>\n",
       "      <td>...</td>\n",
       "      <td>...</td>\n",
       "      <td>...</td>\n",
       "      <td>...</td>\n",
       "    </tr>\n",
       "    <tr>\n",
       "      <th>495</th>\n",
       "      <td>496</td>\n",
       "      <td>メディア・エンターテインメント業</td>\n",
       "      <td>記者</td>\n",
       "      <td>ミドル</td>\n",
       "      <td>- 5年以上の報道経験\\n- 新聞・テレビ・ウェブメディアなど、異なるメディアプラットフォー...</td>\n",
       "    </tr>\n",
       "    <tr>\n",
       "      <th>496</th>\n",
       "      <td>497</td>\n",
       "      <td>小売業</td>\n",
       "      <td>店舗マネージャー</td>\n",
       "      <td>ミドル</td>\n",
       "      <td>- 店舗管理経験: ミドルの店舗マネージャーとして働くには、少なくとも1~2年以上の店舗管理...</td>\n",
       "    </tr>\n",
       "    <tr>\n",
       "      <th>497</th>\n",
       "      <td>498</td>\n",
       "      <td>リサイクル業</td>\n",
       "      <td>技術サポート</td>\n",
       "      <td>ジュニア</td>\n",
       "      <td>- リサイクル業界の知識\\n- 顧客サポート経験\\n- トラブルシューティング能力\\n- 英...</td>\n",
       "    </tr>\n",
       "    <tr>\n",
       "      <th>498</th>\n",
       "      <td>499</td>\n",
       "      <td>広告・マーケティング業</td>\n",
       "      <td>マーケティングアナリスト</td>\n",
       "      <td>ジュニア</td>\n",
       "      <td>- データ分析スキル：広告キャンペーンやウェブサイトのアクセスログなどのデータを分析する能力...</td>\n",
       "    </tr>\n",
       "    <tr>\n",
       "      <th>499</th>\n",
       "      <td>500</td>\n",
       "      <td>ソフトウェア開発業</td>\n",
       "      <td>ソフトウェアエンジニア</td>\n",
       "      <td>シニア</td>\n",
       "      <td>- 5年以上のソフトウェアエンジニア経験\\n- 高度なJavaScriptやTypeScri...</td>\n",
       "    </tr>\n",
       "  </tbody>\n",
       "</table>\n",
       "<p>500 rows × 5 columns</p>\n",
       "</div>"
      ],
      "text/plain": [
       "     job_id          industry          role  rank  \\\n",
       "0         1              化学工業         安全管理者   シニア   \n",
       "1         2            物流・運輸業    物流コーディネーター   ミドル   \n",
       "2         3                農業          物流担当   ミドル   \n",
       "3         4            物流・運輸業          倉庫管理  ジュニア   \n",
       "4         5               卸売業          受注管理  ジュニア   \n",
       "..      ...               ...           ...   ...   \n",
       "495     496  メディア・エンターテインメント業            記者   ミドル   \n",
       "496     497               小売業      店舗マネージャー   ミドル   \n",
       "497     498            リサイクル業        技術サポート  ジュニア   \n",
       "498     499       広告・マーケティング業  マーケティングアナリスト  ジュニア   \n",
       "499     500         ソフトウェア開発業   ソフトウェアエンジニア   シニア   \n",
       "\n",
       "                                            skill_sets  \n",
       "0    - 長年の経験と知識を持った化学工業の安全管理に堪能すること\\n- 法令や規制に基づいた安全...  \n",
       "1    - 物流業界の知識と経験\\n- 日本語と英語の流暢なコミュニケーション能力\\n- 計画と調整...  \n",
       "2    - 農業物流の知識と経験\\n- 貨物管理と配送計画の作成\\n- 仕入れと倉庫管理のスキル\\n...  \n",
       "3    - 倉庫管理の基礎知識\\n- 在庫管理の基本的な手続き\\n- 品質管理の知識\\n- 安全管理...  \n",
       "4    - 注文受付と確認の手続きに堪能な経験\\n- 在庫管理と注文処理の知識\\n- 商品情報の入力...  \n",
       "..                                                 ...  \n",
       "495  - 5年以上の報道経験\\n- 新聞・テレビ・ウェブメディアなど、異なるメディアプラットフォー...  \n",
       "496  - 店舗管理経験: ミドルの店舗マネージャーとして働くには、少なくとも1~2年以上の店舗管理...  \n",
       "497  - リサイクル業界の知識\\n- 顧客サポート経験\\n- トラブルシューティング能力\\n- 英...  \n",
       "498  - データ分析スキル：広告キャンペーンやウェブサイトのアクセスログなどのデータを分析する能力...  \n",
       "499  - 5年以上のソフトウェアエンジニア経験\\n- 高度なJavaScriptやTypeScri...  \n",
       "\n",
       "[500 rows x 5 columns]"
      ]
     },
     "execution_count": 41,
     "metadata": {},
     "output_type": "execute_result"
    }
   ],
   "source": [
    "# 検索対象の仕事リスト\n",
    "df_jobdb = pd.read_csv('data/job_database.csv')\n",
    "df_jobdb"
   ]
  },
  {
   "cell_type": "code",
   "execution_count": 36,
   "id": "5ee6e35b",
   "metadata": {},
   "outputs": [
    {
     "data": {
      "text/plain": [
       "(500, 256)"
      ]
     },
     "execution_count": 36,
     "metadata": {},
     "output_type": "execute_result"
    }
   ],
   "source": [
    "# 検索対象の仕事(Job ID)とEmbedding。事前に作成済み（Hydrogen Torch上でのスコアリング結果を保存）\n",
    "df_job_embeddings = pd.read_csv('data/job_embeddings.csv')\n",
    "df_job_embeddings_only = df_job_embeddings.iloc[:, 1:]\n",
    "df_job_embeddings_only.shape"
   ]
  },
  {
   "cell_type": "code",
   "execution_count": 38,
   "id": "598e0fab",
   "metadata": {},
   "outputs": [],
   "source": [
    "def cos_sim(v1, v2):\n",
    "    return np.dot(v1, v2) / (np.linalg.norm(v1) * np.linalg.norm(v2))\n",
    "\n",
    "def search_top_similarity(applicant_embedding :list) -> pd.DataFrame:\n",
    "    similarity_score = [cos_sim(applicant_embedding, df_job_embeddings_only.iloc[i,:]) for i in range(df_job_embeddings_only.shape[0])]\n",
    "    df_similarity_score = pd.DataFrame({'job_id':df_job_embeddings['job_id'], 'similarity':similarity_score})\n",
    "    df_similarity_score = df_similarity_score.sort_values('similarity', ascending=False)\n",
    "    df_similar_top10 = df_similarity_score[:10]\n",
    "    df_similar_top10 = pd.merge(df_similar_top10, df_jobdb, on='job_id', how='left')\n",
    "    return df_similar_top10"
   ]
  },
  {
   "cell_type": "code",
   "execution_count": 39,
   "id": "6a2af64b",
   "metadata": {},
   "outputs": [
    {
     "data": {
      "text/html": [
       "<div>\n",
       "<style scoped>\n",
       "    .dataframe tbody tr th:only-of-type {\n",
       "        vertical-align: middle;\n",
       "    }\n",
       "\n",
       "    .dataframe tbody tr th {\n",
       "        vertical-align: top;\n",
       "    }\n",
       "\n",
       "    .dataframe thead th {\n",
       "        text-align: right;\n",
       "    }\n",
       "</style>\n",
       "<table border=\"1\" class=\"dataframe\">\n",
       "  <thead>\n",
       "    <tr style=\"text-align: right;\">\n",
       "      <th></th>\n",
       "      <th>job_id</th>\n",
       "      <th>similarity</th>\n",
       "      <th>industry</th>\n",
       "      <th>role</th>\n",
       "      <th>rank</th>\n",
       "      <th>skill_sets</th>\n",
       "    </tr>\n",
       "  </thead>\n",
       "  <tbody>\n",
       "    <tr>\n",
       "      <th>0</th>\n",
       "      <td>360</td>\n",
       "      <td>0.072274</td>\n",
       "      <td>広告・マーケティング業</td>\n",
       "      <td>プランナー</td>\n",
       "      <td>シニア</td>\n",
       "      <td>- 5年以上のプランニング経験\\n- 広告・マーケティング戦略の立案能力\\n- データ分析の...</td>\n",
       "    </tr>\n",
       "    <tr>\n",
       "      <th>1</th>\n",
       "      <td>401</td>\n",
       "      <td>0.071788</td>\n",
       "      <td>卸売業</td>\n",
       "      <td>カスタマーサポート</td>\n",
       "      <td>ミドル</td>\n",
       "      <td>- 顧客サポート経験: ミドルのカスタマーサポートとしては、顧客サポートに関する経験が必要で...</td>\n",
       "    </tr>\n",
       "    <tr>\n",
       "      <th>2</th>\n",
       "      <td>365</td>\n",
       "      <td>0.071461</td>\n",
       "      <td>リサイクル業</td>\n",
       "      <td>品質管理</td>\n",
       "      <td>シニア</td>\n",
       "      <td>- 厳格な品質標準を実装する能力\\n- 品質管理システムの設計と管理\\n- 産業標準（ISO...</td>\n",
       "    </tr>\n",
       "    <tr>\n",
       "      <th>3</th>\n",
       "      <td>404</td>\n",
       "      <td>0.070987</td>\n",
       "      <td>メディア・エンターテインメント業</td>\n",
       "      <td>放送技術者</td>\n",
       "      <td>ミドル</td>\n",
       "      <td>- 放送技術の基礎知識と実務能力\\n- 録音、編集、配信技術の知識と経験\\n- デジタルテレ...</td>\n",
       "    </tr>\n",
       "    <tr>\n",
       "      <th>4</th>\n",
       "      <td>304</td>\n",
       "      <td>0.070539</td>\n",
       "      <td>ITサービス業</td>\n",
       "      <td>カスタマーサポート</td>\n",
       "      <td>ジュニア</td>\n",
       "      <td>- 顧客サポート経験: 少ない程度の顧客サポート経験があること。\\n- コミュニケーション能...</td>\n",
       "    </tr>\n",
       "    <tr>\n",
       "      <th>5</th>\n",
       "      <td>5</td>\n",
       "      <td>0.069380</td>\n",
       "      <td>卸売業</td>\n",
       "      <td>受注管理</td>\n",
       "      <td>ジュニア</td>\n",
       "      <td>- 注文受付と確認の手続きに堪能な経験\\n- 在庫管理と注文処理の知識\\n- 商品情報の入力...</td>\n",
       "    </tr>\n",
       "    <tr>\n",
       "      <th>6</th>\n",
       "      <td>16</td>\n",
       "      <td>0.068283</td>\n",
       "      <td>自動車製造業</td>\n",
       "      <td>製造オペレーター</td>\n",
       "      <td>ミドル</td>\n",
       "      <td>- 複雑な機械操作能力：製造オペレーターとしては、複雑な機械を操作する能力が必要です。\\n-...</td>\n",
       "    </tr>\n",
       "    <tr>\n",
       "      <th>7</th>\n",
       "      <td>15</td>\n",
       "      <td>0.068118</td>\n",
       "      <td>医療・ヘルスケア業</td>\n",
       "      <td>医療技師</td>\n",
       "      <td>ジュニア</td>\n",
       "      <td>- 医療法令・ガイドラインに従う能力\\n- 医療機器の操作能力\\n- 患者のケアや治療に堪能...</td>\n",
       "    </tr>\n",
       "    <tr>\n",
       "      <th>8</th>\n",
       "      <td>6</td>\n",
       "      <td>0.067742</td>\n",
       "      <td>広告・マーケティング業</td>\n",
       "      <td>グラフィックデザイナー</td>\n",
       "      <td>シニア</td>\n",
       "      <td>- 高度なグラフィックデザイン能力\\n- 5年以上の経験\\n- 広告・マーケティング戦略に基...</td>\n",
       "    </tr>\n",
       "    <tr>\n",
       "      <th>9</th>\n",
       "      <td>180</td>\n",
       "      <td>0.067658</td>\n",
       "      <td>不動産業</td>\n",
       "      <td>顧客サービス担当</td>\n",
       "      <td>ミドル</td>\n",
       "      <td>- 不動産業の知識と経験\\n- 顧客サポートに堪能なコミュニケーション能力\\n- 不動産営業...</td>\n",
       "    </tr>\n",
       "  </tbody>\n",
       "</table>\n",
       "</div>"
      ],
      "text/plain": [
       "   job_id  similarity          industry         role  rank  \\\n",
       "0     360    0.072274       広告・マーケティング業        プランナー   シニア   \n",
       "1     401    0.071788               卸売業    カスタマーサポート   ミドル   \n",
       "2     365    0.071461            リサイクル業         品質管理   シニア   \n",
       "3     404    0.070987  メディア・エンターテインメント業        放送技術者   ミドル   \n",
       "4     304    0.070539           ITサービス業    カスタマーサポート  ジュニア   \n",
       "5       5    0.069380               卸売業         受注管理  ジュニア   \n",
       "6      16    0.068283            自動車製造業     製造オペレーター   ミドル   \n",
       "7      15    0.068118         医療・ヘルスケア業         医療技師  ジュニア   \n",
       "8       6    0.067742       広告・マーケティング業  グラフィックデザイナー   シニア   \n",
       "9     180    0.067658              不動産業     顧客サービス担当   ミドル   \n",
       "\n",
       "                                          skill_sets  \n",
       "0  - 5年以上のプランニング経験\\n- 広告・マーケティング戦略の立案能力\\n- データ分析の...  \n",
       "1  - 顧客サポート経験: ミドルのカスタマーサポートとしては、顧客サポートに関する経験が必要で...  \n",
       "2  - 厳格な品質標準を実装する能力\\n- 品質管理システムの設計と管理\\n- 産業標準（ISO...  \n",
       "3  - 放送技術の基礎知識と実務能力\\n- 録音、編集、配信技術の知識と経験\\n- デジタルテレ...  \n",
       "4  - 顧客サポート経験: 少ない程度の顧客サポート経験があること。\\n- コミュニケーション能...  \n",
       "5  - 注文受付と確認の手続きに堪能な経験\\n- 在庫管理と注文処理の知識\\n- 商品情報の入力...  \n",
       "6  - 複雑な機械操作能力：製造オペレーターとしては、複雑な機械を操作する能力が必要です。\\n-...  \n",
       "7  - 医療法令・ガイドラインに従う能力\\n- 医療機器の操作能力\\n- 患者のケアや治療に堪能...  \n",
       "8  - 高度なグラフィックデザイン能力\\n- 5年以上の経験\\n- 広告・マーケティング戦略に基...  \n",
       "9  - 不動産業の知識と経験\\n- 顧客サポートに堪能なコミュニケーション能力\\n- 不動産営業...  "
      ]
     },
     "execution_count": 39,
     "metadata": {},
     "output_type": "execute_result"
    }
   ],
   "source": [
    "# 入力したスキルセットにマッチする、上位の仕事\n",
    "search_top_similarity(applicant_embedding)"
   ]
  },
  {
   "cell_type": "code",
   "execution_count": null,
   "id": "fb85462c",
   "metadata": {},
   "outputs": [],
   "source": []
  }
 ],
 "metadata": {
  "kernelspec": {
   "display_name": "Python [conda env:llm] *",
   "language": "python",
   "name": "conda-env-llm-py"
  },
  "language_info": {
   "codemirror_mode": {
    "name": "ipython",
    "version": 3
   },
   "file_extension": ".py",
   "mimetype": "text/x-python",
   "name": "python",
   "nbconvert_exporter": "python",
   "pygments_lexer": "ipython3",
   "version": "3.10.12"
  }
 },
 "nbformat": 4,
 "nbformat_minor": 5
}
